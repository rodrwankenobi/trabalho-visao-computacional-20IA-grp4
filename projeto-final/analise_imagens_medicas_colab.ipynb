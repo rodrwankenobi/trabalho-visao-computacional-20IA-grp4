{
  "cells": [
    {
      "cell_type": "markdown",
      "metadata": {
        "id": "KrJSXDq3dPdq"
      },
      "source": [
        "# MBA FIAP Inteligência Artificial & Machine Learning\n",
        "\n",
        "## Visão Computacional: Análise de Imagens Médicas\n",
        "\n",
        "> Atenção: este notebook foi desenhado para funcionar no **Google Collab**. Se pretende executar localmente prefira a versão local deste notebook, sem o sufixo ```-collab```.\n",
        "\n",
        "\n",
        "## 1. Introdução\n",
        "\n",
        "As tecnologias de imagens médicas estão cada vez mais integradas aos sitemas de visão computacional, incluindo as imagens de raio-x.\n",
        "\n",
        "Modelos de equipamentos modernos geram imagens digitais deste tipo de exame, proporcionando análises mais completas e menos _ad-hoc_, com isso algumas pré-análises podem ser realizadas por aplicações baseadas em inteligência artificial para confirmar ou sugerir diagnósticos ao profissional responsável pelo exame.\n",
        "\n",
        "No campo dos diagósticos por raios-x, a pnenumonia é uma das enfermidades onde seu uso é um dos mais aplicados para determinar o curso de tratamento.\n",
        "\n",
        "<p align=\"center\">\n",
        "    <img src=\"https://github.com/michelpf/fiap-ml-visao-computacional-capstone-alternative/blob/master/projeto-final/imagens/NORMAL2-IM-1422-0001.jpeg?raw=1\">\n",
        "</p>\n",
        "\n",
        "## 2. Instruções\n",
        "\n",
        "Este projeto final tem como objetivo explorar os conhecimentos adquiridos nas aulas práticas.\n",
        "\n",
        "Por meio de uma trilha guiada, iremos constuir um modelo que seja capaz de classificar imagens de raio-x para determinar se a determinada pessoa está com alguma condição que necessita maiores cuidados.\n",
        "\n",
        "De acordo com as imagens disponíveis para o treinamento e validação, será de critério do grupo selecionar as quantidades ideais ou até mesmo pré-processar as imagens para obter o melhor resultado, nos principais indicadores de performance, como precisão, sensibilidade e pontuação F1.\n",
        "\n",
        "Este projeto poderá ser feita por grupos de até 4 pessoas.\n",
        "Caso este projeto seja substitutivo, deverá ser realizado por apenas uma pessoa.\n",
        "\n",
        "| Nome dos Integrantes     | RM            | Turma |\n",
        "| :----------------------- | :------------- | :-----: |\n",
        "| Rodrigo W. Ferreira             | RM 337735      | `20IA` |\n",
        "| Marco Mendes            | RM 341529      | `20IA` |\n",
        "| Gabriel Piras             | RM 342136      | `20IA` |\n",
        "| Ericsson Silva             | RM 340439      | `20IA` |\n",
        "\n",
        "Por ser um projeto guiado, fique atento quando houver as marcações **Implementação** indica que é necessário realizar alguma implementação em Python no bloco a seguir onde há a inscrição ```##IMPLEMENTAR``` e **Resposta** indica que é esperado uma resposta objetiva relacionado a algum questionamento. \n",
        "\n",
        "**Cada grupo pode utilizar nas respostas objetivas quaisquer itens necessários que enriqueçam seu ponto vista, como gráficos, fotos e, até mesmo, trechos de código-fonte.**\n",
        "\n",
        "Pode-se utilizar quantos blocos forem necessários para realizar determinadas implementações ou utilizá-las para justificar as respostas. Não é obrigatório utilizar somente o bloco indicado.\n",
        "\n",
        "Ao final não se esqueça de subir os arquivos do projeto nas contas do GitHub de cada membro, ou subir na do representante do grupo e os membros realizarem o fork do projeto.\n",
        "\n",
        "A avaliação terá mais ênfase nos seguintes tópicos de desenvolvimento do projeto:\n",
        " \n",
        "1. __Pré-Processamento__\n",
        "2. __Classificação__\n",
        "3. __Performance__\n",
        "4. __Conclusões Finais__"
      ]
    },
    {
      "cell_type": "markdown",
      "metadata": {
        "id": "jcKW7cnidPdy"
      },
      "source": [
        "## 3.1 Detalhe do problema: a pneunomia\n",
        "\n",
        "Fonte: [artigo](https://drauziovarella.uol.com.br/doencas-e-sintomas/pneumonia) do Dr. Drauzio Varella.\n",
        "\n",
        "Pneumonias são infecções que se instalam nos pulmões, órgãos duplos localizados um de cada lado da caixa torácica. Podem acometer a região dos alvéolos pulmonares onde desembocam as ramificações terminais dos brônquios e, às vezes, os interstícios (espaço entre um alvéolo e outro).\n",
        "\n",
        "Basicamente, pneumonia é provocada pela penetração de um agente infeccioso ou irritante (bactérias, vírus, fungos e por reações alérgicas) no espaço alveolar, onde ocorre a troca gasosa. Esse local deve estar sempre muito limpo, livre de substâncias que possam impedir o contato do ar com o sangue.\n",
        "\n",
        "Exame clínico, auscultação dos pulmões e radiografias de tórax são recursos essenciais para o diagnóstico de pneumonia.\n",
        "\n",
        "<p align=\"center\">\n",
        "    <img src=\"https://github.com/michelpf/fiap-ml-visao-computacional-capstone-alternative/blob/master/projeto-final/imagens/pneumonia.jpeg?raw=1\">\n",
        "</p>"
      ]
    },
    {
      "cell_type": "markdown",
      "metadata": {
        "id": "-kCiPdosdPd0"
      },
      "source": [
        "## 3.2 Diagnóstico por raio-x"
      ]
    },
    {
      "cell_type": "markdown",
      "metadata": {
        "id": "vCKxlB_cdPd0"
      },
      "source": [
        "O exame de raio-x traz diferenças em cada tipo de diagnóstico, sendo considerado os seguintes grupos de análise: **normal** (ou controle) onde não há nenhuma condição de infeção, **bacterial pneumonia** (pneumonia bacteriana) que representa a condição de infecção bacteriana e **viral pneumonia** que indica a condição de infecção viral. "
      ]
    },
    {
      "cell_type": "markdown",
      "metadata": {
        "id": "rKBdxhqkdPd1"
      },
      "source": [
        "<p align=\"center\">\n",
        "<img src=\"https://github.com/michelpf/fiap-ml-visao-computacional-capstone-alternative/blob/master/projeto-final/imagens/raiox.png?raw=1\" height=\"60%\" width=\"60%\">\n",
        "</p>"
      ]
    },
    {
      "cell_type": "markdown",
      "metadata": {
        "id": "NfzqcOqvdPd2"
      },
      "source": [
        "As imagens de controle não são mais brancas ao centro que é onde fica o coração. Já nas imagens com pneumonia é possível notar regiões brancas ao redor dos pulmões, que é como o exame identifica as secreções responsáveis pela infeçcão.\n",
        "\n",
        "Quando mais regiões brancas ao redor do pulmão mais severa é a inflamação e menos se observa dos detalhes dos pulmões, ficando um pouco esmaecido diante desta condição."
      ]
    },
    {
      "cell_type": "markdown",
      "metadata": {
        "id": "HRRetCK0dPd3"
      },
      "source": [
        "## 4.1 Problema\n",
        "\n",
        "Construir um classificador utilizando _transfer learning_ para identificar as seguintes classes: **controle**, **pneumonia bacteriana** e **pneumonia viral**.\n",
        "\n",
        "Para construir este classificador, utilize o dataset do [Kaggle Chest Ray Pneumonia](https://www.kaggle.com/paultimothymooney/chest-xray-pneumonia) e organize os dados de forma a separar em cada uma das classes que já estão definidas no diretório ```raiox```, sendo ```controle``` para as imagens normais (sem inflamação), ```bacteria``` para as imagens de pneumonia bacteriana e ```viral``` para as imagens de pneumonia viral.\n",
        "\n",
        "Determine a quantidade de imagens a serem treinadas e validadas. Utiliza pelo menos, 100 imagens para cada classe.\n",
        "\n",
        "Compare os resultados com pelo menos 3 classificadores, obtendo os valores de **precisão (precision)**, **sensibilidade (recall)** e **pontuação F1 (F1 Score)**. No guia abaixo, foi indicado os seguintes modelos: ResNet50, VGG16 e VGG19. \n",
        "\n",
        ">Importante: a escolha do número de imagens devem ser o suficiente para alcançar o valor de **precisão** mínima de 70%.\n",
        "Note que as imagens de pneumonia bacteria e viral estão misturadas dentro da pasta ```PNEUMONIA```. É necessário separar as imagens manualmente tendo como base o sufixo. As imagens que terminal com ```_virus``` se referem a pneumoria viral e as que terminam com ```_bacteria``` se referem a pneumonia bacteriana.\n",
        "\n",
        "A construção do modelo será utilizada o framework Keras."
      ]
    },
    {
      "cell_type": "markdown",
      "metadata": {
        "id": "K1eflIlmdPd4"
      },
      "source": [
        "**Pergunta**: Qual o número de imagens que foram selecionadas para cada classe?"
      ]
    },
    {
      "cell_type": "markdown",
      "metadata": {
        "id": "6vgoxvOVdPd5"
      },
      "source": [
        "**Resposta**: Selecionamos 200 imagens de cada classe (total 600) para realizar o treinamento do modelo. A quantidade foi suficiente para alcançar os scores desejados. Separamos 60% dessas imagens para treino e 40% para validação."
      ]
    },
    {
      "cell_type": "markdown",
      "metadata": {
        "id": "cc0MRKT9dPd6"
      },
      "source": [
        "## 4.2 Componentes obrigatórios\n",
        "\n",
        "Todas as bibliotecas já estão instaladas no Google Colab.\n",
        "\n",
        "* Keras\n",
        "* Tensorflow\n",
        "* Pillow\n",
        "* Matplotlib"
      ]
    },
    {
      "cell_type": "code",
      "execution_count": 1,
      "metadata": {
        "id": "oP1lE6i8dPd7"
      },
      "outputs": [],
      "source": [
        "import os\n",
        "\n",
        "import numpy as np\n",
        "import matplotlib.pyplot as plt\n",
        "from PIL import Image\n",
        "\n",
        "%matplotlib inline\n",
        "\n",
        "from tensorflow.keras.models import Sequential, load_model, model_from_json\n",
        "from tensorflow.keras.layers import Dense, Conv2D, Dropout, Flatten, MaxPooling2D, Activation\n",
        "from tensorflow.keras.preprocessing.image import ImageDataGenerator\n",
        "from tensorflow.keras.applications import VGG16, ResNet50, VGG19, InceptionV3\n",
        "from tensorflow.keras.applications.vgg16 import preprocess_input\n",
        "from tensorflow.keras import Model, layers\n",
        "from tensorflow.keras import optimizers\n",
        "\n",
        "import tensorflow.keras.backend as K\n",
        "from tensorflow.keras.utils import set_random_seed\n",
        "set_random_seed(42)"
      ]
    },
    {
      "cell_type": "markdown",
      "metadata": {
        "id": "r9W6McuodPd9"
      },
      "source": [
        "## 4.3 Carregando imagens de treinamento e validação\n",
        "\n",
        "Selecione a melhor divisão entre dados de treinamento e validação. O número deverá ser representado em número fracionário, 5% equivale a 0.05, por exemplo."
      ]
    },
    {
      "cell_type": "markdown",
      "metadata": {
        "id": "r5uenhhXdPd-"
      },
      "source": [
        "> Você pode _montar_ o drive do Google Drive se precisar e quiser armazenar as imagens nesta plataforma. Como o Colab é efêmero, se você copiar os arquivos para o ambiente eles serão apagados depois do fim da sessão. Acesse [esta](https://medium.com/@maxwellcsm/colaboratory-acessando-os-arquivos-do-google-drive-d08ef9157dbf) referência para saber mais como o recurso funciona, inclusive recomenda-se essa abordagem de montar o próprio Google Drive.\n",
        "\n",
        "Se não for utilizar o Google Drive, crie as pastas que serão utilizadas para armazenar as imagens."
      ]
    },
    {
      "cell_type": "markdown",
      "metadata": {
        "id": "RbMVMkbqdPd_"
      },
      "source": [
        "### 4.3.1 Utilizando Google Drive\n",
        "\n",
        "Se usar o Google Drive para armazenar as imagens utilize o comando abaixo para montar seu drive.\n",
        "Você pode navegar pelas pastas pelo painel ao lado."
      ]
    },
    {
      "cell_type": "code",
      "execution_count": 10,
      "metadata": {
        "id": "mzfJDg6xdPeA",
        "colab": {
          "base_uri": "https://localhost:8080/"
        },
        "outputId": "73bf9bcf-921b-4b73-88bd-47825a02736b"
      },
      "outputs": [
        {
          "output_type": "stream",
          "name": "stdout",
          "text": [
            "Mounted at /content/drive\n"
          ]
        }
      ],
      "source": [
        "from google.colab import drive\n",
        "drive.mount('/content/drive')"
      ]
    },
    {
      "cell_type": "markdown",
      "metadata": {
        "id": "sTZN8yQvdPeA"
      },
      "source": [
        "### 4.3.2 Utilizando o armazenamento efêmero\n",
        "\n",
        "Se optar pelo armazenamento efêmero você precisa enviar os arquivos de imagens (arrastar e soltar) para as pastas que deverão ser criadas pelo comando a seguir."
      ]
    },
    {
      "cell_type": "code",
      "execution_count": 12,
      "metadata": {
        "id": "OAOYZX2JdPeB"
      },
      "outputs": [],
      "source": [
        "!mkdir raiox/\n",
        "!mkdir raiox/normal\n",
        "!mkdir raiox/pneumonia_bacteriana\n",
        "!mkdir raiox/pneumonia_viral"
      ]
    },
    {
      "cell_type": "markdown",
      "metadata": {
        "id": "zz0fuXx9dPeB"
      },
      "source": [
        "Defina o nome da pasta onde contém as sub-pastas referente aos 3 tipos de classe. Se optar pelo armazenamento efêmero a pasta será ```raiox```. Se optar pelo Goolge Drive, indique o caminho da pasta."
      ]
    },
    {
      "cell_type": "code",
      "execution_count": 8,
      "metadata": {
        "id": "XFSl7o5hdPeB"
      },
      "outputs": [],
      "source": [
        "## IMPLEMENTE\n",
        "divisao_treino_validacao = 0.4\n",
        "nome_pasta_raiz_imagens = 'drive/MyDrive/raiox'"
      ]
    },
    {
      "cell_type": "markdown",
      "metadata": {
        "id": "m-5H6SiOdPeC"
      },
      "source": [
        "O caminho abaixo da pasta ```raiox``` pode ser alterado caso você opte por utilizar uma pasta específica do seu Google Drive. Neste caso, certifique que dentro delas tem as sub-pastas referentes as imagens normal, pneumonia bacteriana e viral."
      ]
    },
    {
      "cell_type": "code",
      "execution_count": 11,
      "metadata": {
        "id": "NtNdTz8edPeC",
        "colab": {
          "base_uri": "https://localhost:8080/"
        },
        "outputId": "fcb7e1af-ff2b-4238-deb4-71e7485214f8"
      },
      "outputs": [
        {
          "output_type": "stream",
          "name": "stdout",
          "text": [
            "Found 360 images belonging to 3 classes.\n"
          ]
        }
      ],
      "source": [
        "train_datagen = ImageDataGenerator(validation_split=divisao_treino_validacao)\n",
        "\n",
        "train_generator = train_datagen.flow_from_directory(\n",
        "    nome_pasta_raiz_imagens,\n",
        "    batch_size=32,\n",
        "    class_mode=\"categorical\",\n",
        "    color_mode=\"rgb\",\n",
        "    target_size=(224,224),\n",
        "    subset=\"training\")"
      ]
    },
    {
      "cell_type": "code",
      "execution_count": 12,
      "metadata": {
        "id": "UI7Dqp9FdPeD",
        "colab": {
          "base_uri": "https://localhost:8080/"
        },
        "outputId": "d6b5ed6e-2489-408c-9b3a-8cc824c9b432"
      },
      "outputs": [
        {
          "output_type": "stream",
          "name": "stdout",
          "text": [
            "Found 240 images belonging to 3 classes.\n"
          ]
        }
      ],
      "source": [
        "val_generator = train_datagen.flow_from_directory(\n",
        "    nome_pasta_raiz_imagens,\n",
        "    batch_size=32,\n",
        "    class_mode=\"categorical\",\n",
        "    color_mode=\"rgb\",\n",
        "    target_size=(224,224),\n",
        "    subset=\"validation\")"
      ]
    },
    {
      "cell_type": "code",
      "execution_count": 13,
      "metadata": {
        "id": "Pps9Qm1rdPeD",
        "colab": {
          "base_uri": "https://localhost:8080/"
        },
        "outputId": "14297120-c7fd-44c8-cbe2-d3ffeb4bbd85"
      },
      "outputs": [
        {
          "output_type": "execute_result",
          "data": {
            "text/plain": [
              "({'normal': 0, 'pneumonia_bacteriana': 1, 'pneumonia_viral': 2},\n",
              " {'normal': 0, 'pneumonia_bacteriana': 1, 'pneumonia_viral': 2})"
            ]
          },
          "metadata": {},
          "execution_count": 13
        }
      ],
      "source": [
        "train_generator.class_indices, val_generator.class_indices"
      ]
    },
    {
      "cell_type": "markdown",
      "metadata": {
        "id": "xRtmK_GgdPeD"
      },
      "source": [
        "## 4.4 Modelos de transfer learning\n",
        "\n",
        "O Keras já possui classes especializadas para os seguintes modelos de deep-learning treinados com o conjunto de dados [ImageNet](http://www.image-net.org/):\n",
        "  \n",
        "* Xception\n",
        "* VGG16\n",
        "* VGG19\n",
        "* ResNet50\n",
        "* InceptionV3\n",
        "* InceptionResNetV2\n",
        "* MobileNet\n",
        "* DenseNet\n",
        "* NASNet\n",
        "* MobileNetV2\n",
        "\n",
        "Mais detalhes, veja na [documentação do Keras](https://keras.io/applications/)."
      ]
    },
    {
      "cell_type": "markdown",
      "metadata": {
        "id": "OELnMIyzdPeE"
      },
      "source": [
        "Para este estudo, vamos utilizar para avaliação as seguintes arquiteturas: RestNet50, VGG15 e VGG19."
      ]
    },
    {
      "cell_type": "markdown",
      "metadata": {
        "id": "z-RYOamydPeE"
      },
      "source": [
        "## 4.5 Indicadores de desempenho\n",
        "\n",
        "O Keras não possui os indicadores de desempenho como precisão, sensibilidade e pontuação f1 por padrão, portanto precisamos implementar externamente."
      ]
    },
    {
      "cell_type": "code",
      "execution_count": 4,
      "metadata": {
        "id": "wCOdai4UdPeE"
      },
      "outputs": [],
      "source": [
        "def recall_score(y_true, y_pred):\n",
        "    true_positives = K.sum(K.round(K.clip(y_true * y_pred, 0, 1)))\n",
        "    possible_positives = K.sum(K.round(K.clip(y_true, 0, 1)))\n",
        "    recall = true_positives / (possible_positives + K.epsilon())\n",
        "    return recall\n",
        "\n",
        "def precision_score(y_true, y_pred):\n",
        "    true_positives = K.sum(K.round(K.clip(y_true * y_pred, 0, 1)))\n",
        "    predicted_positives = K.sum(K.round(K.clip(y_pred, 0, 1)))\n",
        "    precision = true_positives / (predicted_positives + K.epsilon())\n",
        "    return precision\n",
        "\n",
        "def f1_score(y_true, y_pred):\n",
        "    precision = precision_score(y_true, y_pred)\n",
        "    recall = recall_score(y_true, y_pred)\n",
        "    return 2*((precision*recall)/(precision+recall+K.epsilon()))"
      ]
    },
    {
      "cell_type": "markdown",
      "metadata": {
        "id": "aGtQSufzdPeF"
      },
      "source": [
        "### 4.5.1 Arquitetura ResNet50"
      ]
    },
    {
      "cell_type": "markdown",
      "metadata": {
        "id": "L70U4i0PdPeF"
      },
      "source": [
        "**Pergunta**: Explique como é constituída a arquitetura do ResNet50? *Utilize, se necessário, gráficos, projetos que utilizam essa arquitetura. Detalhe também sua topologia em camadas e mostre quais as situações essa arquitetura pode ter mais êxito e quais cenários não tem.*"
      ]
    },
    {
      "cell_type": "markdown",
      "metadata": {
        "id": "EanRHqnidPeF"
      },
      "source": [
        "**Resposta**: \n",
        "\n",
        "**ResNet50** é uma rede pré-treinada através do database de imagens [ImageNet](https://image-net.org/index.php), e como o nome diz, é uma rede residual que possui 50 camadas de profundidade. \n",
        "\n",
        "As redes neurais residuais, possuem a capacidade de trabalhar com muitas camadas sem perder acurácia, pois ela possui uma inteligência de pular camadas para evitar de extrair features além do necessário, como uma espécie de atalho.\n",
        "\n",
        "Além disso, é capaz de classificar 1000 categorias de objetos, por exemplo, mouse, teclado e até animais.\n",
        "\n",
        "Esta rede se tornou popular, por vencer a competição ILSVRC 2015, com erro de apenas 3.57%.\n",
        "\n",
        "Abaixo segue uma representação da arquitetura:\n",
        "\n",
        "<p align=\"center\">\n",
        "    <img src=\"https://upload.wikimedia.org/wikipedia/commons/thumb/9/98/ResNet50.png/800px-ResNet50.png?20211021163926\">\n",
        "</p>\n",
        "\n",
        "**Referências:**\n",
        "\n",
        "https://www.mathworks.com/help/deeplearning/ref/resnet50.html <br>\n",
        "https://viso.ai/deep-learning/resnet-residual-neural-network/\n",
        "\n",
        "\n",
        "**Projetos:**\n",
        "\n",
        "Diagnóstico de COVID-19 utilizando imagens de Raio-X: <br>\n",
        "https://www.codeproject.com/Articles/5294469/COVID-19-Diagnosis-Using-ResNet50-Transfer-Learnin\n",
        "<br><br>\n",
        "Reconhecimento de poses com as mãos:<br>\n",
        "https://www.hackster.io/aaronhuang/resnet-based-hand-pose-recognition-edge-computing-project-64fc7f\n",
        "\n",
        "\n",
        "**Paper Oficial:** <br>\n",
        "https://arxiv.org/abs/1512.03385"
      ]
    },
    {
      "cell_type": "markdown",
      "metadata": {
        "id": "bMr2fuRGdPeG"
      },
      "source": [
        "A técnica de transfer learning consiste de utilizar o mesmo modelo e treiná-lo para outas imagens. Por tal motivo, excluímos a última camada para modelar com as classes que definimos, ou seja, **controle**, **bacteriana** e **viral**."
      ]
    },
    {
      "cell_type": "markdown",
      "metadata": {
        "id": "vbKUGJpFdPeG"
      },
      "source": [
        "Informe a quantidade de classes a serem classificadas."
      ]
    },
    {
      "cell_type": "code",
      "execution_count": 106,
      "metadata": {
        "id": "3aY9QE6OdPeG"
      },
      "outputs": [],
      "source": [
        "## IMPLEMENTE\n",
        "\n",
        "qtde_classes = 3"
      ]
    },
    {
      "cell_type": "code",
      "execution_count": 107,
      "metadata": {
        "id": "DpkwO3qwdPeG"
      },
      "outputs": [],
      "source": [
        "conv_base = ResNet50(include_top=False)\n",
        "\n",
        "for layer in conv_base.layers:\n",
        "    layer.trainable = False"
      ]
    },
    {
      "cell_type": "code",
      "execution_count": 108,
      "metadata": {
        "id": "oaPAniZbdPeH",
        "colab": {
          "base_uri": "https://localhost:8080/"
        },
        "outputId": "626bb474-e0cd-4be9-a195-6ebba36a4b17"
      },
      "outputs": [
        {
          "output_type": "stream",
          "name": "stdout",
          "text": [
            "Model: \"model_11\"\n",
            "__________________________________________________________________________________________________\n",
            " Layer (type)                   Output Shape         Param #     Connected to                     \n",
            "==================================================================================================\n",
            " input_14 (InputLayer)          [(None, None, None,  0           []                               \n",
            "                                 3)]                                                              \n",
            "                                                                                                  \n",
            " conv1_pad (ZeroPadding2D)      (None, None, None,   0           ['input_14[0][0]']               \n",
            "                                3)                                                                \n",
            "                                                                                                  \n",
            " conv1_conv (Conv2D)            (None, None, None,   9472        ['conv1_pad[0][0]']              \n",
            "                                64)                                                               \n",
            "                                                                                                  \n",
            " conv1_bn (BatchNormalization)  (None, None, None,   256         ['conv1_conv[0][0]']             \n",
            "                                64)                                                               \n",
            "                                                                                                  \n",
            " conv1_relu (Activation)        (None, None, None,   0           ['conv1_bn[0][0]']               \n",
            "                                64)                                                               \n",
            "                                                                                                  \n",
            " pool1_pad (ZeroPadding2D)      (None, None, None,   0           ['conv1_relu[0][0]']             \n",
            "                                64)                                                               \n",
            "                                                                                                  \n",
            " pool1_pool (MaxPooling2D)      (None, None, None,   0           ['pool1_pad[0][0]']              \n",
            "                                64)                                                               \n",
            "                                                                                                  \n",
            " conv2_block1_1_conv (Conv2D)   (None, None, None,   4160        ['pool1_pool[0][0]']             \n",
            "                                64)                                                               \n",
            "                                                                                                  \n",
            " conv2_block1_1_bn (BatchNormal  (None, None, None,   256        ['conv2_block1_1_conv[0][0]']    \n",
            " ization)                       64)                                                               \n",
            "                                                                                                  \n",
            " conv2_block1_1_relu (Activatio  (None, None, None,   0          ['conv2_block1_1_bn[0][0]']      \n",
            " n)                             64)                                                               \n",
            "                                                                                                  \n",
            " conv2_block1_2_conv (Conv2D)   (None, None, None,   36928       ['conv2_block1_1_relu[0][0]']    \n",
            "                                64)                                                               \n",
            "                                                                                                  \n",
            " conv2_block1_2_bn (BatchNormal  (None, None, None,   256        ['conv2_block1_2_conv[0][0]']    \n",
            " ization)                       64)                                                               \n",
            "                                                                                                  \n",
            " conv2_block1_2_relu (Activatio  (None, None, None,   0          ['conv2_block1_2_bn[0][0]']      \n",
            " n)                             64)                                                               \n",
            "                                                                                                  \n",
            " conv2_block1_0_conv (Conv2D)   (None, None, None,   16640       ['pool1_pool[0][0]']             \n",
            "                                256)                                                              \n",
            "                                                                                                  \n",
            " conv2_block1_3_conv (Conv2D)   (None, None, None,   16640       ['conv2_block1_2_relu[0][0]']    \n",
            "                                256)                                                              \n",
            "                                                                                                  \n",
            " conv2_block1_0_bn (BatchNormal  (None, None, None,   1024       ['conv2_block1_0_conv[0][0]']    \n",
            " ization)                       256)                                                              \n",
            "                                                                                                  \n",
            " conv2_block1_3_bn (BatchNormal  (None, None, None,   1024       ['conv2_block1_3_conv[0][0]']    \n",
            " ization)                       256)                                                              \n",
            "                                                                                                  \n",
            " conv2_block1_add (Add)         (None, None, None,   0           ['conv2_block1_0_bn[0][0]',      \n",
            "                                256)                              'conv2_block1_3_bn[0][0]']      \n",
            "                                                                                                  \n",
            " conv2_block1_out (Activation)  (None, None, None,   0           ['conv2_block1_add[0][0]']       \n",
            "                                256)                                                              \n",
            "                                                                                                  \n",
            " conv2_block2_1_conv (Conv2D)   (None, None, None,   16448       ['conv2_block1_out[0][0]']       \n",
            "                                64)                                                               \n",
            "                                                                                                  \n",
            " conv2_block2_1_bn (BatchNormal  (None, None, None,   256        ['conv2_block2_1_conv[0][0]']    \n",
            " ization)                       64)                                                               \n",
            "                                                                                                  \n",
            " conv2_block2_1_relu (Activatio  (None, None, None,   0          ['conv2_block2_1_bn[0][0]']      \n",
            " n)                             64)                                                               \n",
            "                                                                                                  \n",
            " conv2_block2_2_conv (Conv2D)   (None, None, None,   36928       ['conv2_block2_1_relu[0][0]']    \n",
            "                                64)                                                               \n",
            "                                                                                                  \n",
            " conv2_block2_2_bn (BatchNormal  (None, None, None,   256        ['conv2_block2_2_conv[0][0]']    \n",
            " ization)                       64)                                                               \n",
            "                                                                                                  \n",
            " conv2_block2_2_relu (Activatio  (None, None, None,   0          ['conv2_block2_2_bn[0][0]']      \n",
            " n)                             64)                                                               \n",
            "                                                                                                  \n",
            " conv2_block2_3_conv (Conv2D)   (None, None, None,   16640       ['conv2_block2_2_relu[0][0]']    \n",
            "                                256)                                                              \n",
            "                                                                                                  \n",
            " conv2_block2_3_bn (BatchNormal  (None, None, None,   1024       ['conv2_block2_3_conv[0][0]']    \n",
            " ization)                       256)                                                              \n",
            "                                                                                                  \n",
            " conv2_block2_add (Add)         (None, None, None,   0           ['conv2_block1_out[0][0]',       \n",
            "                                256)                              'conv2_block2_3_bn[0][0]']      \n",
            "                                                                                                  \n",
            " conv2_block2_out (Activation)  (None, None, None,   0           ['conv2_block2_add[0][0]']       \n",
            "                                256)                                                              \n",
            "                                                                                                  \n",
            " conv2_block3_1_conv (Conv2D)   (None, None, None,   16448       ['conv2_block2_out[0][0]']       \n",
            "                                64)                                                               \n",
            "                                                                                                  \n",
            " conv2_block3_1_bn (BatchNormal  (None, None, None,   256        ['conv2_block3_1_conv[0][0]']    \n",
            " ization)                       64)                                                               \n",
            "                                                                                                  \n",
            " conv2_block3_1_relu (Activatio  (None, None, None,   0          ['conv2_block3_1_bn[0][0]']      \n",
            " n)                             64)                                                               \n",
            "                                                                                                  \n",
            " conv2_block3_2_conv (Conv2D)   (None, None, None,   36928       ['conv2_block3_1_relu[0][0]']    \n",
            "                                64)                                                               \n",
            "                                                                                                  \n",
            " conv2_block3_2_bn (BatchNormal  (None, None, None,   256        ['conv2_block3_2_conv[0][0]']    \n",
            " ization)                       64)                                                               \n",
            "                                                                                                  \n",
            " conv2_block3_2_relu (Activatio  (None, None, None,   0          ['conv2_block3_2_bn[0][0]']      \n",
            " n)                             64)                                                               \n",
            "                                                                                                  \n",
            " conv2_block3_3_conv (Conv2D)   (None, None, None,   16640       ['conv2_block3_2_relu[0][0]']    \n",
            "                                256)                                                              \n",
            "                                                                                                  \n",
            " conv2_block3_3_bn (BatchNormal  (None, None, None,   1024       ['conv2_block3_3_conv[0][0]']    \n",
            " ization)                       256)                                                              \n",
            "                                                                                                  \n",
            " conv2_block3_add (Add)         (None, None, None,   0           ['conv2_block2_out[0][0]',       \n",
            "                                256)                              'conv2_block3_3_bn[0][0]']      \n",
            "                                                                                                  \n",
            " conv2_block3_out (Activation)  (None, None, None,   0           ['conv2_block3_add[0][0]']       \n",
            "                                256)                                                              \n",
            "                                                                                                  \n",
            " conv3_block1_1_conv (Conv2D)   (None, None, None,   32896       ['conv2_block3_out[0][0]']       \n",
            "                                128)                                                              \n",
            "                                                                                                  \n",
            " conv3_block1_1_bn (BatchNormal  (None, None, None,   512        ['conv3_block1_1_conv[0][0]']    \n",
            " ization)                       128)                                                              \n",
            "                                                                                                  \n",
            " conv3_block1_1_relu (Activatio  (None, None, None,   0          ['conv3_block1_1_bn[0][0]']      \n",
            " n)                             128)                                                              \n",
            "                                                                                                  \n",
            " conv3_block1_2_conv (Conv2D)   (None, None, None,   147584      ['conv3_block1_1_relu[0][0]']    \n",
            "                                128)                                                              \n",
            "                                                                                                  \n",
            " conv3_block1_2_bn (BatchNormal  (None, None, None,   512        ['conv3_block1_2_conv[0][0]']    \n",
            " ization)                       128)                                                              \n",
            "                                                                                                  \n",
            " conv3_block1_2_relu (Activatio  (None, None, None,   0          ['conv3_block1_2_bn[0][0]']      \n",
            " n)                             128)                                                              \n",
            "                                                                                                  \n",
            " conv3_block1_0_conv (Conv2D)   (None, None, None,   131584      ['conv2_block3_out[0][0]']       \n",
            "                                512)                                                              \n",
            "                                                                                                  \n",
            " conv3_block1_3_conv (Conv2D)   (None, None, None,   66048       ['conv3_block1_2_relu[0][0]']    \n",
            "                                512)                                                              \n",
            "                                                                                                  \n",
            " conv3_block1_0_bn (BatchNormal  (None, None, None,   2048       ['conv3_block1_0_conv[0][0]']    \n",
            " ization)                       512)                                                              \n",
            "                                                                                                  \n",
            " conv3_block1_3_bn (BatchNormal  (None, None, None,   2048       ['conv3_block1_3_conv[0][0]']    \n",
            " ization)                       512)                                                              \n",
            "                                                                                                  \n",
            " conv3_block1_add (Add)         (None, None, None,   0           ['conv3_block1_0_bn[0][0]',      \n",
            "                                512)                              'conv3_block1_3_bn[0][0]']      \n",
            "                                                                                                  \n",
            " conv3_block1_out (Activation)  (None, None, None,   0           ['conv3_block1_add[0][0]']       \n",
            "                                512)                                                              \n",
            "                                                                                                  \n",
            " conv3_block2_1_conv (Conv2D)   (None, None, None,   65664       ['conv3_block1_out[0][0]']       \n",
            "                                128)                                                              \n",
            "                                                                                                  \n",
            " conv3_block2_1_bn (BatchNormal  (None, None, None,   512        ['conv3_block2_1_conv[0][0]']    \n",
            " ization)                       128)                                                              \n",
            "                                                                                                  \n",
            " conv3_block2_1_relu (Activatio  (None, None, None,   0          ['conv3_block2_1_bn[0][0]']      \n",
            " n)                             128)                                                              \n",
            "                                                                                                  \n",
            " conv3_block2_2_conv (Conv2D)   (None, None, None,   147584      ['conv3_block2_1_relu[0][0]']    \n",
            "                                128)                                                              \n",
            "                                                                                                  \n",
            " conv3_block2_2_bn (BatchNormal  (None, None, None,   512        ['conv3_block2_2_conv[0][0]']    \n",
            " ization)                       128)                                                              \n",
            "                                                                                                  \n",
            " conv3_block2_2_relu (Activatio  (None, None, None,   0          ['conv3_block2_2_bn[0][0]']      \n",
            " n)                             128)                                                              \n",
            "                                                                                                  \n",
            " conv3_block2_3_conv (Conv2D)   (None, None, None,   66048       ['conv3_block2_2_relu[0][0]']    \n",
            "                                512)                                                              \n",
            "                                                                                                  \n",
            " conv3_block2_3_bn (BatchNormal  (None, None, None,   2048       ['conv3_block2_3_conv[0][0]']    \n",
            " ization)                       512)                                                              \n",
            "                                                                                                  \n",
            " conv3_block2_add (Add)         (None, None, None,   0           ['conv3_block1_out[0][0]',       \n",
            "                                512)                              'conv3_block2_3_bn[0][0]']      \n",
            "                                                                                                  \n",
            " conv3_block2_out (Activation)  (None, None, None,   0           ['conv3_block2_add[0][0]']       \n",
            "                                512)                                                              \n",
            "                                                                                                  \n",
            " conv3_block3_1_conv (Conv2D)   (None, None, None,   65664       ['conv3_block2_out[0][0]']       \n",
            "                                128)                                                              \n",
            "                                                                                                  \n",
            " conv3_block3_1_bn (BatchNormal  (None, None, None,   512        ['conv3_block3_1_conv[0][0]']    \n",
            " ization)                       128)                                                              \n",
            "                                                                                                  \n",
            " conv3_block3_1_relu (Activatio  (None, None, None,   0          ['conv3_block3_1_bn[0][0]']      \n",
            " n)                             128)                                                              \n",
            "                                                                                                  \n",
            " conv3_block3_2_conv (Conv2D)   (None, None, None,   147584      ['conv3_block3_1_relu[0][0]']    \n",
            "                                128)                                                              \n",
            "                                                                                                  \n",
            " conv3_block3_2_bn (BatchNormal  (None, None, None,   512        ['conv3_block3_2_conv[0][0]']    \n",
            " ization)                       128)                                                              \n",
            "                                                                                                  \n",
            " conv3_block3_2_relu (Activatio  (None, None, None,   0          ['conv3_block3_2_bn[0][0]']      \n",
            " n)                             128)                                                              \n",
            "                                                                                                  \n",
            " conv3_block3_3_conv (Conv2D)   (None, None, None,   66048       ['conv3_block3_2_relu[0][0]']    \n",
            "                                512)                                                              \n",
            "                                                                                                  \n",
            " conv3_block3_3_bn (BatchNormal  (None, None, None,   2048       ['conv3_block3_3_conv[0][0]']    \n",
            " ization)                       512)                                                              \n",
            "                                                                                                  \n",
            " conv3_block3_add (Add)         (None, None, None,   0           ['conv3_block2_out[0][0]',       \n",
            "                                512)                              'conv3_block3_3_bn[0][0]']      \n",
            "                                                                                                  \n",
            " conv3_block3_out (Activation)  (None, None, None,   0           ['conv3_block3_add[0][0]']       \n",
            "                                512)                                                              \n",
            "                                                                                                  \n",
            " conv3_block4_1_conv (Conv2D)   (None, None, None,   65664       ['conv3_block3_out[0][0]']       \n",
            "                                128)                                                              \n",
            "                                                                                                  \n",
            " conv3_block4_1_bn (BatchNormal  (None, None, None,   512        ['conv3_block4_1_conv[0][0]']    \n",
            " ization)                       128)                                                              \n",
            "                                                                                                  \n",
            " conv3_block4_1_relu (Activatio  (None, None, None,   0          ['conv3_block4_1_bn[0][0]']      \n",
            " n)                             128)                                                              \n",
            "                                                                                                  \n",
            " conv3_block4_2_conv (Conv2D)   (None, None, None,   147584      ['conv3_block4_1_relu[0][0]']    \n",
            "                                128)                                                              \n",
            "                                                                                                  \n",
            " conv3_block4_2_bn (BatchNormal  (None, None, None,   512        ['conv3_block4_2_conv[0][0]']    \n",
            " ization)                       128)                                                              \n",
            "                                                                                                  \n",
            " conv3_block4_2_relu (Activatio  (None, None, None,   0          ['conv3_block4_2_bn[0][0]']      \n",
            " n)                             128)                                                              \n",
            "                                                                                                  \n",
            " conv3_block4_3_conv (Conv2D)   (None, None, None,   66048       ['conv3_block4_2_relu[0][0]']    \n",
            "                                512)                                                              \n",
            "                                                                                                  \n",
            " conv3_block4_3_bn (BatchNormal  (None, None, None,   2048       ['conv3_block4_3_conv[0][0]']    \n",
            " ization)                       512)                                                              \n",
            "                                                                                                  \n",
            " conv3_block4_add (Add)         (None, None, None,   0           ['conv3_block3_out[0][0]',       \n",
            "                                512)                              'conv3_block4_3_bn[0][0]']      \n",
            "                                                                                                  \n",
            " conv3_block4_out (Activation)  (None, None, None,   0           ['conv3_block4_add[0][0]']       \n",
            "                                512)                                                              \n",
            "                                                                                                  \n",
            " conv4_block1_1_conv (Conv2D)   (None, None, None,   131328      ['conv3_block4_out[0][0]']       \n",
            "                                256)                                                              \n",
            "                                                                                                  \n",
            " conv4_block1_1_bn (BatchNormal  (None, None, None,   1024       ['conv4_block1_1_conv[0][0]']    \n",
            " ization)                       256)                                                              \n",
            "                                                                                                  \n",
            " conv4_block1_1_relu (Activatio  (None, None, None,   0          ['conv4_block1_1_bn[0][0]']      \n",
            " n)                             256)                                                              \n",
            "                                                                                                  \n",
            " conv4_block1_2_conv (Conv2D)   (None, None, None,   590080      ['conv4_block1_1_relu[0][0]']    \n",
            "                                256)                                                              \n",
            "                                                                                                  \n",
            " conv4_block1_2_bn (BatchNormal  (None, None, None,   1024       ['conv4_block1_2_conv[0][0]']    \n",
            " ization)                       256)                                                              \n",
            "                                                                                                  \n",
            " conv4_block1_2_relu (Activatio  (None, None, None,   0          ['conv4_block1_2_bn[0][0]']      \n",
            " n)                             256)                                                              \n",
            "                                                                                                  \n",
            " conv4_block1_0_conv (Conv2D)   (None, None, None,   525312      ['conv3_block4_out[0][0]']       \n",
            "                                1024)                                                             \n",
            "                                                                                                  \n",
            " conv4_block1_3_conv (Conv2D)   (None, None, None,   263168      ['conv4_block1_2_relu[0][0]']    \n",
            "                                1024)                                                             \n",
            "                                                                                                  \n",
            " conv4_block1_0_bn (BatchNormal  (None, None, None,   4096       ['conv4_block1_0_conv[0][0]']    \n",
            " ization)                       1024)                                                             \n",
            "                                                                                                  \n",
            " conv4_block1_3_bn (BatchNormal  (None, None, None,   4096       ['conv4_block1_3_conv[0][0]']    \n",
            " ization)                       1024)                                                             \n",
            "                                                                                                  \n",
            " conv4_block1_add (Add)         (None, None, None,   0           ['conv4_block1_0_bn[0][0]',      \n",
            "                                1024)                             'conv4_block1_3_bn[0][0]']      \n",
            "                                                                                                  \n",
            " conv4_block1_out (Activation)  (None, None, None,   0           ['conv4_block1_add[0][0]']       \n",
            "                                1024)                                                             \n",
            "                                                                                                  \n",
            " conv4_block2_1_conv (Conv2D)   (None, None, None,   262400      ['conv4_block1_out[0][0]']       \n",
            "                                256)                                                              \n",
            "                                                                                                  \n",
            " conv4_block2_1_bn (BatchNormal  (None, None, None,   1024       ['conv4_block2_1_conv[0][0]']    \n",
            " ization)                       256)                                                              \n",
            "                                                                                                  \n",
            " conv4_block2_1_relu (Activatio  (None, None, None,   0          ['conv4_block2_1_bn[0][0]']      \n",
            " n)                             256)                                                              \n",
            "                                                                                                  \n",
            " conv4_block2_2_conv (Conv2D)   (None, None, None,   590080      ['conv4_block2_1_relu[0][0]']    \n",
            "                                256)                                                              \n",
            "                                                                                                  \n",
            " conv4_block2_2_bn (BatchNormal  (None, None, None,   1024       ['conv4_block2_2_conv[0][0]']    \n",
            " ization)                       256)                                                              \n",
            "                                                                                                  \n",
            " conv4_block2_2_relu (Activatio  (None, None, None,   0          ['conv4_block2_2_bn[0][0]']      \n",
            " n)                             256)                                                              \n",
            "                                                                                                  \n",
            " conv4_block2_3_conv (Conv2D)   (None, None, None,   263168      ['conv4_block2_2_relu[0][0]']    \n",
            "                                1024)                                                             \n",
            "                                                                                                  \n",
            " conv4_block2_3_bn (BatchNormal  (None, None, None,   4096       ['conv4_block2_3_conv[0][0]']    \n",
            " ization)                       1024)                                                             \n",
            "                                                                                                  \n",
            " conv4_block2_add (Add)         (None, None, None,   0           ['conv4_block1_out[0][0]',       \n",
            "                                1024)                             'conv4_block2_3_bn[0][0]']      \n",
            "                                                                                                  \n",
            " conv4_block2_out (Activation)  (None, None, None,   0           ['conv4_block2_add[0][0]']       \n",
            "                                1024)                                                             \n",
            "                                                                                                  \n",
            " conv4_block3_1_conv (Conv2D)   (None, None, None,   262400      ['conv4_block2_out[0][0]']       \n",
            "                                256)                                                              \n",
            "                                                                                                  \n",
            " conv4_block3_1_bn (BatchNormal  (None, None, None,   1024       ['conv4_block3_1_conv[0][0]']    \n",
            " ization)                       256)                                                              \n",
            "                                                                                                  \n",
            " conv4_block3_1_relu (Activatio  (None, None, None,   0          ['conv4_block3_1_bn[0][0]']      \n",
            " n)                             256)                                                              \n",
            "                                                                                                  \n",
            " conv4_block3_2_conv (Conv2D)   (None, None, None,   590080      ['conv4_block3_1_relu[0][0]']    \n",
            "                                256)                                                              \n",
            "                                                                                                  \n",
            " conv4_block3_2_bn (BatchNormal  (None, None, None,   1024       ['conv4_block3_2_conv[0][0]']    \n",
            " ization)                       256)                                                              \n",
            "                                                                                                  \n",
            " conv4_block3_2_relu (Activatio  (None, None, None,   0          ['conv4_block3_2_bn[0][0]']      \n",
            " n)                             256)                                                              \n",
            "                                                                                                  \n",
            " conv4_block3_3_conv (Conv2D)   (None, None, None,   263168      ['conv4_block3_2_relu[0][0]']    \n",
            "                                1024)                                                             \n",
            "                                                                                                  \n",
            " conv4_block3_3_bn (BatchNormal  (None, None, None,   4096       ['conv4_block3_3_conv[0][0]']    \n",
            " ization)                       1024)                                                             \n",
            "                                                                                                  \n",
            " conv4_block3_add (Add)         (None, None, None,   0           ['conv4_block2_out[0][0]',       \n",
            "                                1024)                             'conv4_block3_3_bn[0][0]']      \n",
            "                                                                                                  \n",
            " conv4_block3_out (Activation)  (None, None, None,   0           ['conv4_block3_add[0][0]']       \n",
            "                                1024)                                                             \n",
            "                                                                                                  \n",
            " conv4_block4_1_conv (Conv2D)   (None, None, None,   262400      ['conv4_block3_out[0][0]']       \n",
            "                                256)                                                              \n",
            "                                                                                                  \n",
            " conv4_block4_1_bn (BatchNormal  (None, None, None,   1024       ['conv4_block4_1_conv[0][0]']    \n",
            " ization)                       256)                                                              \n",
            "                                                                                                  \n",
            " conv4_block4_1_relu (Activatio  (None, None, None,   0          ['conv4_block4_1_bn[0][0]']      \n",
            " n)                             256)                                                              \n",
            "                                                                                                  \n",
            " conv4_block4_2_conv (Conv2D)   (None, None, None,   590080      ['conv4_block4_1_relu[0][0]']    \n",
            "                                256)                                                              \n",
            "                                                                                                  \n",
            " conv4_block4_2_bn (BatchNormal  (None, None, None,   1024       ['conv4_block4_2_conv[0][0]']    \n",
            " ization)                       256)                                                              \n",
            "                                                                                                  \n",
            " conv4_block4_2_relu (Activatio  (None, None, None,   0          ['conv4_block4_2_bn[0][0]']      \n",
            " n)                             256)                                                              \n",
            "                                                                                                  \n",
            " conv4_block4_3_conv (Conv2D)   (None, None, None,   263168      ['conv4_block4_2_relu[0][0]']    \n",
            "                                1024)                                                             \n",
            "                                                                                                  \n",
            " conv4_block4_3_bn (BatchNormal  (None, None, None,   4096       ['conv4_block4_3_conv[0][0]']    \n",
            " ization)                       1024)                                                             \n",
            "                                                                                                  \n",
            " conv4_block4_add (Add)         (None, None, None,   0           ['conv4_block3_out[0][0]',       \n",
            "                                1024)                             'conv4_block4_3_bn[0][0]']      \n",
            "                                                                                                  \n",
            " conv4_block4_out (Activation)  (None, None, None,   0           ['conv4_block4_add[0][0]']       \n",
            "                                1024)                                                             \n",
            "                                                                                                  \n",
            " conv4_block5_1_conv (Conv2D)   (None, None, None,   262400      ['conv4_block4_out[0][0]']       \n",
            "                                256)                                                              \n",
            "                                                                                                  \n",
            " conv4_block5_1_bn (BatchNormal  (None, None, None,   1024       ['conv4_block5_1_conv[0][0]']    \n",
            " ization)                       256)                                                              \n",
            "                                                                                                  \n",
            " conv4_block5_1_relu (Activatio  (None, None, None,   0          ['conv4_block5_1_bn[0][0]']      \n",
            " n)                             256)                                                              \n",
            "                                                                                                  \n",
            " conv4_block5_2_conv (Conv2D)   (None, None, None,   590080      ['conv4_block5_1_relu[0][0]']    \n",
            "                                256)                                                              \n",
            "                                                                                                  \n",
            " conv4_block5_2_bn (BatchNormal  (None, None, None,   1024       ['conv4_block5_2_conv[0][0]']    \n",
            " ization)                       256)                                                              \n",
            "                                                                                                  \n",
            " conv4_block5_2_relu (Activatio  (None, None, None,   0          ['conv4_block5_2_bn[0][0]']      \n",
            " n)                             256)                                                              \n",
            "                                                                                                  \n",
            " conv4_block5_3_conv (Conv2D)   (None, None, None,   263168      ['conv4_block5_2_relu[0][0]']    \n",
            "                                1024)                                                             \n",
            "                                                                                                  \n",
            " conv4_block5_3_bn (BatchNormal  (None, None, None,   4096       ['conv4_block5_3_conv[0][0]']    \n",
            " ization)                       1024)                                                             \n",
            "                                                                                                  \n",
            " conv4_block5_add (Add)         (None, None, None,   0           ['conv4_block4_out[0][0]',       \n",
            "                                1024)                             'conv4_block5_3_bn[0][0]']      \n",
            "                                                                                                  \n",
            " conv4_block5_out (Activation)  (None, None, None,   0           ['conv4_block5_add[0][0]']       \n",
            "                                1024)                                                             \n",
            "                                                                                                  \n",
            " conv4_block6_1_conv (Conv2D)   (None, None, None,   262400      ['conv4_block5_out[0][0]']       \n",
            "                                256)                                                              \n",
            "                                                                                                  \n",
            " conv4_block6_1_bn (BatchNormal  (None, None, None,   1024       ['conv4_block6_1_conv[0][0]']    \n",
            " ization)                       256)                                                              \n",
            "                                                                                                  \n",
            " conv4_block6_1_relu (Activatio  (None, None, None,   0          ['conv4_block6_1_bn[0][0]']      \n",
            " n)                             256)                                                              \n",
            "                                                                                                  \n",
            " conv4_block6_2_conv (Conv2D)   (None, None, None,   590080      ['conv4_block6_1_relu[0][0]']    \n",
            "                                256)                                                              \n",
            "                                                                                                  \n",
            " conv4_block6_2_bn (BatchNormal  (None, None, None,   1024       ['conv4_block6_2_conv[0][0]']    \n",
            " ization)                       256)                                                              \n",
            "                                                                                                  \n",
            " conv4_block6_2_relu (Activatio  (None, None, None,   0          ['conv4_block6_2_bn[0][0]']      \n",
            " n)                             256)                                                              \n",
            "                                                                                                  \n",
            " conv4_block6_3_conv (Conv2D)   (None, None, None,   263168      ['conv4_block6_2_relu[0][0]']    \n",
            "                                1024)                                                             \n",
            "                                                                                                  \n",
            " conv4_block6_3_bn (BatchNormal  (None, None, None,   4096       ['conv4_block6_3_conv[0][0]']    \n",
            " ization)                       1024)                                                             \n",
            "                                                                                                  \n",
            " conv4_block6_add (Add)         (None, None, None,   0           ['conv4_block5_out[0][0]',       \n",
            "                                1024)                             'conv4_block6_3_bn[0][0]']      \n",
            "                                                                                                  \n",
            " conv4_block6_out (Activation)  (None, None, None,   0           ['conv4_block6_add[0][0]']       \n",
            "                                1024)                                                             \n",
            "                                                                                                  \n",
            " conv5_block1_1_conv (Conv2D)   (None, None, None,   524800      ['conv4_block6_out[0][0]']       \n",
            "                                512)                                                              \n",
            "                                                                                                  \n",
            " conv5_block1_1_bn (BatchNormal  (None, None, None,   2048       ['conv5_block1_1_conv[0][0]']    \n",
            " ization)                       512)                                                              \n",
            "                                                                                                  \n",
            " conv5_block1_1_relu (Activatio  (None, None, None,   0          ['conv5_block1_1_bn[0][0]']      \n",
            " n)                             512)                                                              \n",
            "                                                                                                  \n",
            " conv5_block1_2_conv (Conv2D)   (None, None, None,   2359808     ['conv5_block1_1_relu[0][0]']    \n",
            "                                512)                                                              \n",
            "                                                                                                  \n",
            " conv5_block1_2_bn (BatchNormal  (None, None, None,   2048       ['conv5_block1_2_conv[0][0]']    \n",
            " ization)                       512)                                                              \n",
            "                                                                                                  \n",
            " conv5_block1_2_relu (Activatio  (None, None, None,   0          ['conv5_block1_2_bn[0][0]']      \n",
            " n)                             512)                                                              \n",
            "                                                                                                  \n",
            " conv5_block1_0_conv (Conv2D)   (None, None, None,   2099200     ['conv4_block6_out[0][0]']       \n",
            "                                2048)                                                             \n",
            "                                                                                                  \n",
            " conv5_block1_3_conv (Conv2D)   (None, None, None,   1050624     ['conv5_block1_2_relu[0][0]']    \n",
            "                                2048)                                                             \n",
            "                                                                                                  \n",
            " conv5_block1_0_bn (BatchNormal  (None, None, None,   8192       ['conv5_block1_0_conv[0][0]']    \n",
            " ization)                       2048)                                                             \n",
            "                                                                                                  \n",
            " conv5_block1_3_bn (BatchNormal  (None, None, None,   8192       ['conv5_block1_3_conv[0][0]']    \n",
            " ization)                       2048)                                                             \n",
            "                                                                                                  \n",
            " conv5_block1_add (Add)         (None, None, None,   0           ['conv5_block1_0_bn[0][0]',      \n",
            "                                2048)                             'conv5_block1_3_bn[0][0]']      \n",
            "                                                                                                  \n",
            " conv5_block1_out (Activation)  (None, None, None,   0           ['conv5_block1_add[0][0]']       \n",
            "                                2048)                                                             \n",
            "                                                                                                  \n",
            " conv5_block2_1_conv (Conv2D)   (None, None, None,   1049088     ['conv5_block1_out[0][0]']       \n",
            "                                512)                                                              \n",
            "                                                                                                  \n",
            " conv5_block2_1_bn (BatchNormal  (None, None, None,   2048       ['conv5_block2_1_conv[0][0]']    \n",
            " ization)                       512)                                                              \n",
            "                                                                                                  \n",
            " conv5_block2_1_relu (Activatio  (None, None, None,   0          ['conv5_block2_1_bn[0][0]']      \n",
            " n)                             512)                                                              \n",
            "                                                                                                  \n",
            " conv5_block2_2_conv (Conv2D)   (None, None, None,   2359808     ['conv5_block2_1_relu[0][0]']    \n",
            "                                512)                                                              \n",
            "                                                                                                  \n",
            " conv5_block2_2_bn (BatchNormal  (None, None, None,   2048       ['conv5_block2_2_conv[0][0]']    \n",
            " ization)                       512)                                                              \n",
            "                                                                                                  \n",
            " conv5_block2_2_relu (Activatio  (None, None, None,   0          ['conv5_block2_2_bn[0][0]']      \n",
            " n)                             512)                                                              \n",
            "                                                                                                  \n",
            " conv5_block2_3_conv (Conv2D)   (None, None, None,   1050624     ['conv5_block2_2_relu[0][0]']    \n",
            "                                2048)                                                             \n",
            "                                                                                                  \n",
            " conv5_block2_3_bn (BatchNormal  (None, None, None,   8192       ['conv5_block2_3_conv[0][0]']    \n",
            " ization)                       2048)                                                             \n",
            "                                                                                                  \n",
            " conv5_block2_add (Add)         (None, None, None,   0           ['conv5_block1_out[0][0]',       \n",
            "                                2048)                             'conv5_block2_3_bn[0][0]']      \n",
            "                                                                                                  \n",
            " conv5_block2_out (Activation)  (None, None, None,   0           ['conv5_block2_add[0][0]']       \n",
            "                                2048)                                                             \n",
            "                                                                                                  \n",
            " conv5_block3_1_conv (Conv2D)   (None, None, None,   1049088     ['conv5_block2_out[0][0]']       \n",
            "                                512)                                                              \n",
            "                                                                                                  \n",
            " conv5_block3_1_bn (BatchNormal  (None, None, None,   2048       ['conv5_block3_1_conv[0][0]']    \n",
            " ization)                       512)                                                              \n",
            "                                                                                                  \n",
            " conv5_block3_1_relu (Activatio  (None, None, None,   0          ['conv5_block3_1_bn[0][0]']      \n",
            " n)                             512)                                                              \n",
            "                                                                                                  \n",
            " conv5_block3_2_conv (Conv2D)   (None, None, None,   2359808     ['conv5_block3_1_relu[0][0]']    \n",
            "                                512)                                                              \n",
            "                                                                                                  \n",
            " conv5_block3_2_bn (BatchNormal  (None, None, None,   2048       ['conv5_block3_2_conv[0][0]']    \n",
            " ization)                       512)                                                              \n",
            "                                                                                                  \n",
            " conv5_block3_2_relu (Activatio  (None, None, None,   0          ['conv5_block3_2_bn[0][0]']      \n",
            " n)                             512)                                                              \n",
            "                                                                                                  \n",
            " conv5_block3_3_conv (Conv2D)   (None, None, None,   1050624     ['conv5_block3_2_relu[0][0]']    \n",
            "                                2048)                                                             \n",
            "                                                                                                  \n",
            " conv5_block3_3_bn (BatchNormal  (None, None, None,   8192       ['conv5_block3_3_conv[0][0]']    \n",
            " ization)                       2048)                                                             \n",
            "                                                                                                  \n",
            " conv5_block3_add (Add)         (None, None, None,   0           ['conv5_block2_out[0][0]',       \n",
            "                                2048)                             'conv5_block3_3_bn[0][0]']      \n",
            "                                                                                                  \n",
            " conv5_block3_out (Activation)  (None, None, None,   0           ['conv5_block3_add[0][0]']       \n",
            "                                2048)                                                             \n",
            "                                                                                                  \n",
            " global_average_pooling2d_12 (G  (None, 2048)        0           ['conv5_block3_out[0][0]']       \n",
            " lobalAveragePooling2D)                                                                           \n",
            "                                                                                                  \n",
            " dense_23 (Dense)               (None, 128)          262272      ['global_average_pooling2d_12[0][\n",
            "                                                                 0]']                             \n",
            "                                                                                                  \n",
            " dense_24 (Dense)               (None, 3)            387         ['dense_23[0][0]']               \n",
            "                                                                                                  \n",
            "==================================================================================================\n",
            "Total params: 23,850,371\n",
            "Trainable params: 262,659\n",
            "Non-trainable params: 23,587,712\n",
            "__________________________________________________________________________________________________\n"
          ]
        }
      ],
      "source": [
        "x = conv_base.output\n",
        "x = layers.GlobalAveragePooling2D()(x)\n",
        "x = layers.Dense(128, activation='relu')(x) \n",
        "\n",
        "predictions = layers.Dense(qtde_classes, activation='softmax')(x)\n",
        "model = Model(conv_base.input, predictions)\n",
        "\n",
        "model.summary()"
      ]
    },
    {
      "cell_type": "code",
      "execution_count": 109,
      "metadata": {
        "id": "SEo04Np2dPeH"
      },
      "outputs": [],
      "source": [
        "optimizer = optimizers.Adam()\n",
        "model.compile(loss='categorical_crossentropy', optimizer=optimizer, metrics=[precision_score, recall_score, f1_score])"
      ]
    },
    {
      "cell_type": "markdown",
      "metadata": {
        "id": "FInbWJ_9dPeH"
      },
      "source": [
        "O número de épocas define quantas vezes o modelo irá treinar e validar o erro, assim ajustando os pesos para melhor convergência.\n",
        "Escolha o número adequado de épocas para alcançarmos pelo menos **70% de precisão de validação**."
      ]
    },
    {
      "cell_type": "code",
      "execution_count": 110,
      "metadata": {
        "id": "ddQ247U-dPeI"
      },
      "outputs": [],
      "source": [
        "## IMPLEMENTE\n",
        "qtde_epocas = 12"
      ]
    },
    {
      "cell_type": "code",
      "execution_count": 111,
      "metadata": {
        "id": "FRDCqZXRdPeI",
        "colab": {
          "base_uri": "https://localhost:8080/"
        },
        "outputId": "20fa7031-b483-4e35-ad6b-17042580b68b"
      },
      "outputs": [
        {
          "output_type": "stream",
          "name": "stdout",
          "text": [
            "Epoch 1/12\n",
            "5/5 [==============================] - 12s 2s/step - loss: 2.0225 - precision_score: 0.4488 - recall_score: 0.4488 - f1_score: 0.4487 - val_loss: 0.9523 - val_precision_score: 0.6506 - val_recall_score: 0.5688 - val_f1_score: 0.6066\n",
            "Epoch 2/12\n",
            "5/5 [==============================] - 6s 1s/step - loss: 0.8899 - precision_score: 0.5469 - recall_score: 0.5075 - f1_score: 0.5252 - val_loss: 0.7669 - val_precision_score: 0.7119 - val_recall_score: 0.6812 - val_f1_score: 0.6958\n",
            "Epoch 3/12\n",
            "5/5 [==============================] - 6s 1s/step - loss: 0.5298 - precision_score: 0.8419 - recall_score: 0.8000 - f1_score: 0.8202 - val_loss: 0.9057 - val_precision_score: 0.7396 - val_recall_score: 0.6687 - val_f1_score: 0.7020\n",
            "Epoch 4/12\n",
            "5/5 [==============================] - 5s 1s/step - loss: 0.4318 - precision_score: 0.8684 - recall_score: 0.8363 - f1_score: 0.8519 - val_loss: 0.5705 - val_precision_score: 0.8706 - val_recall_score: 0.8375 - val_f1_score: 0.8535\n",
            "Epoch 5/12\n",
            "5/5 [==============================] - 5s 1s/step - loss: 0.2769 - precision_score: 0.9290 - recall_score: 0.8962 - f1_score: 0.9122 - val_loss: 0.6067 - val_precision_score: 0.8269 - val_recall_score: 0.8062 - val_f1_score: 0.8163\n",
            "Epoch 6/12\n",
            "5/5 [==============================] - 6s 1s/step - loss: 0.1807 - precision_score: 0.9619 - recall_score: 0.9438 - f1_score: 0.9527 - val_loss: 0.5174 - val_precision_score: 0.8667 - val_recall_score: 0.8438 - val_f1_score: 0.8550\n",
            "Epoch 7/12\n",
            "5/5 [==============================] - 5s 1s/step - loss: 0.1633 - precision_score: 0.9615 - recall_score: 0.9300 - f1_score: 0.9451 - val_loss: 0.6286 - val_precision_score: 0.8461 - val_recall_score: 0.8250 - val_f1_score: 0.8353\n",
            "Epoch 8/12\n",
            "5/5 [==============================] - 5s 1s/step - loss: 0.1427 - precision_score: 0.9625 - recall_score: 0.9563 - f1_score: 0.9593 - val_loss: 0.4967 - val_precision_score: 0.8667 - val_recall_score: 0.8500 - val_f1_score: 0.8581\n",
            "Epoch 9/12\n",
            "5/5 [==============================] - 5s 1s/step - loss: 0.1125 - precision_score: 0.9685 - recall_score: 0.9625 - f1_score: 0.9655 - val_loss: 0.5372 - val_precision_score: 0.8919 - val_recall_score: 0.8687 - val_f1_score: 0.8801\n",
            "Epoch 10/12\n",
            "5/5 [==============================] - 5s 1s/step - loss: 0.0819 - precision_score: 0.9837 - recall_score: 0.9775 - f1_score: 0.9806 - val_loss: 0.5174 - val_precision_score: 0.8242 - val_recall_score: 0.8188 - val_f1_score: 0.8214\n",
            "Epoch 11/12\n",
            "5/5 [==============================] - 5s 1s/step - loss: 0.0770 - precision_score: 0.9748 - recall_score: 0.9688 - f1_score: 0.9717 - val_loss: 0.6167 - val_precision_score: 0.8375 - val_recall_score: 0.8375 - val_f1_score: 0.8375\n",
            "Epoch 12/12\n",
            "5/5 [==============================] - 5s 1s/step - loss: 0.0625 - precision_score: 0.9937 - recall_score: 0.9937 - f1_score: 0.9937 - val_loss: 0.4599 - val_precision_score: 0.8742 - val_recall_score: 0.8687 - val_f1_score: 0.8714\n"
          ]
        }
      ],
      "source": [
        "history = model.fit(train_generator, epochs=qtde_epocas, validation_steps=5, steps_per_epoch=5, \n",
        "                    validation_data=val_generator)"
      ]
    },
    {
      "cell_type": "markdown",
      "metadata": {
        "id": "Amk1lJWTdPeI"
      },
      "source": [
        "Um modelo que converge bem possui o gráfico de perda (*loss*) descendente e os gráfico de precisão (*precision*), sensibilidade (*recall*) e pontuação f1 (*f1 score*) em acendente."
      ]
    },
    {
      "cell_type": "code",
      "execution_count": 112,
      "metadata": {
        "id": "07arbzBHdPeI",
        "colab": {
          "base_uri": "https://localhost:8080/",
          "height": 1000
        },
        "outputId": "8a523905-5e6b-4e79-a4ed-f33f692ca516"
      },
      "outputs": [
        {
          "output_type": "display_data",
          "data": {
            "text/plain": [
              "<Figure size 432x288 with 1 Axes>"
            ],
            "image/png": "[encoded data removed]"
          },
          "metadata": {
            "needs_background": "light"
          }
        },
        {
          "output_type": "display_data",
          "data": {
            "text/plain": [
              "<Figure size 432x288 with 1 Axes>"
            ],
            "image/png": "[encoded data removed]"
          },
          "metadata": {
            "needs_background": "light"
          }
        },
        {
          "output_type": "display_data",
          "data": {
            "text/plain": [
              "<Figure size 432x288 with 1 Axes>"
            ],
            "image/png": "[encoded data removed]"
          },
          "metadata": {
            "needs_background": "light"
          }
        },
        {
          "output_type": "display_data",
          "data": {
            "text/plain": [
              "<Figure size 432x288 with 1 Axes>"
            ],
            "image/png": "[encoded data removed]"
          },
          "metadata": {
            "needs_background": "light"
          }
        }
      ],
      "source": [
        "# Exibindo dados de Precisão\n",
        "plt.plot(history.history['precision_score'])\n",
        "plt.plot(history.history['val_precision_score'])\n",
        "plt.title('model precision')\n",
        "plt.ylabel('precision')\n",
        "plt.xlabel('epoch')\n",
        "plt.legend(['train', 'test'], loc='upper left')\n",
        "plt.show()\n",
        "\n",
        "# Exibindo dados de Sensibilidade\n",
        "plt.plot(history.history['recall_score'])\n",
        "plt.plot(history.history['val_recall_score'])\n",
        "plt.title('model recall')\n",
        "plt.ylabel('recall')\n",
        "plt.xlabel('epoch')\n",
        "plt.legend(['train', 'test'], loc='upper left')\n",
        "plt.show()\n",
        "\n",
        "# Exibindo dados de F1 Score\n",
        "plt.plot(history.history['f1_score'])\n",
        "plt.plot(history.history['val_f1_score'])\n",
        "plt.title('model f1_score')\n",
        "plt.ylabel('f1_score')\n",
        "plt.xlabel('epoch')\n",
        "plt.legend(['train', 'test'], loc='upper left')\n",
        "plt.show()\n",
        "\n",
        "# Exibindo dados de Perda\n",
        "plt.plot(history.history['loss'])\n",
        "plt.plot(history.history['val_loss'])\n",
        "plt.title('model loss')\n",
        "plt.ylabel('loss')\n",
        "plt.xlabel('epoch')\n",
        "plt.legend(['train', 'test'], loc='upper left')\n",
        "plt.show()"
      ]
    },
    {
      "cell_type": "markdown",
      "metadata": {
        "id": "PRWQX53EdPeJ"
      },
      "source": [
        "**Pergunta**: Avalie os gráficos de perda (*loss*), precisão (*precision*), sensibilidade (*recall*) e pontuação f1 (*f1 score*)  e explique o comportamento de ambos no que tange a convergência do modelo."
      ]
    },
    {
      "cell_type": "markdown",
      "metadata": {
        "id": "iL4O52cSdPeJ"
      },
      "source": [
        "**Resposta**:\n",
        "\n",
        "De acordo com os gráficos apresentados, as três métricas de score (precisão, recall e f1), apresentaram tendência de alta atingindo aproximadamente de 87%, e a perda do modelo mostrou tendência de queda porém com oscilações. \n",
        "\n",
        "Após teste com 20 épocas, percebemos que após a 12º o modelo começou a convergir, pois as métricas de precisão, recall e f1, apesar de oscilar entre alta e queda, demonstrou uma certa estabilidade, chegando a conclusão de que para este contexto com 200 imagens, 12 épocas seria o ideal para o treinamento."
      ]
    },
    {
      "cell_type": "markdown",
      "metadata": {
        "id": "4xWjEh36dPeJ"
      },
      "source": [
        "**Pergunta**: Quais são os valores de **precisão (precision)**, **sensibilidade (recall)** de validação? \n",
        "\n",
        "*Estes valores são exibidos durante o treinamento, utilize a última saída, exemplo:*\n",
        "\n",
        "```\n",
        "Epoch 10/10 [==============================] - 45s 9s/step - loss: 0.1234 - precision_score: 0.9742 - recall_score: 0.9683 - f1_score: 0.9712 - val_loss: 0.8819 - val_precision_score: 0.6912 - val_recall_score: 0.5649 - val_f1_score: 0.6216```\n",
        "\n",
        "No caso acima, o valor de precisão, sensibilidade e pontuação de validação são, respectivamente, 69,12%, 56,49% e 62,16%."
      ]
    },
    {
      "cell_type": "markdown",
      "metadata": {
        "id": "mciXBu0IdPeK"
      },
      "source": [
        "**Resposta**:\n",
        "\n",
        "**Métricas Resnet na Validação** <br><br>\n",
        "**Perda**: 45,99% <br>\n",
        "**Precisão**: 87,42% <br>\n",
        "**Recall**: 86,87% <br>\n",
        "**F1**: 87,14% <br>\n",
        "**Tempo de Treinamento:** 1 minuto e 10 segundos (GPU) <br>\n",
        "**Qtde épocas**: 12"
      ]
    },
    {
      "cell_type": "markdown",
      "metadata": {
        "id": "IDsI9hCzdPeK"
      },
      "source": [
        "### 4.5.2 Arquitetura VGG16"
      ]
    },
    {
      "cell_type": "markdown",
      "metadata": {
        "id": "Hv7MmqgzdPeL"
      },
      "source": [
        "**Pergunta**: Explique como é constituída a arquitetura do VGG16? *Utilize, se necessário, gráficos, projetos que utilizam essa arquitetura. Detalhe também sua topologia em camadas e mostre quais as situações essa arquitetura pode ter mais êxito e quais cenários não tem.*"
      ]
    },
    {
      "cell_type": "markdown",
      "metadata": {
        "id": "-P_4vsOKdPeL"
      },
      "source": [
        "**Resposta**:\n",
        "\n",
        "Esta modalidade de algoritmo, foi criada em 2014 para a competição ILSVRC utilizando o database de imagens [ImageNet](https://image-net.org/index.php), e foi considerado como sucessor do já conhecido AlexNet.\n",
        "\n",
        "Este algoritmo utiliza uma Rede Neural Convolucional (CNN), que foi implementado como uma melhoria do algoritmo AlexNet que utilizava um tamanho de filtros no kernel de 11 na primeira camada convolucional e 5 na segunda. Ao invés disso, a rede VGG utiliza kérneis de 3x3 filtros em cada camada de convolução.\n",
        "\n",
        "As letras VGG significam \"Visual Geometry Group\" e 16 é o número de camadas utilizadas no modelo.\n",
        "\n",
        "Abaixo uma representação visual da arquitetura:\n",
        "\n",
        "<p text-align=\"center\">\n",
        "  <img src=\"https://neurohive.io/wp-content/uploads/2018/11/vgg16-neural-network.jpg\"/>\n",
        "</p>\n",
        "\n",
        "**Referências:** <br>\n",
        "https://neurohive.io/en/popular-networks/vgg16/ <br>\n",
        "https://towardsdatascience.com/step-by-step-vgg16-implementation-in-keras-for-beginners-a833c686ae6c <br>\n",
        "https://medium.com/codex/vgg-16-model-applications-2021-e57f17157147\n",
        "\n",
        "**Projetos:**\n",
        "Detecção de uso de máscara facial: <br>\n",
        "https://www.youtube.com/watch?v=70nZfwjYkpk\n",
        "<br><br>\n",
        "\n",
        "**Paper oficial:** <br>\n",
        "https://arxiv.org/abs/1409.1556\n",
        "\n",
        "\n"
      ]
    },
    {
      "cell_type": "code",
      "source": [
        "qtde_epocas = 7"
      ],
      "metadata": {
        "id": "csP_7sJHpwQi"
      },
      "execution_count": 126,
      "outputs": []
    },
    {
      "cell_type": "code",
      "execution_count": 127,
      "metadata": {
        "id": "1vhTPE1YdPeL"
      },
      "outputs": [],
      "source": [
        "conv_base = VGG16(include_top=False)\n",
        "\n",
        "for layer in conv_base.layers:\n",
        "    layer.trainable = False"
      ]
    },
    {
      "cell_type": "code",
      "execution_count": 128,
      "metadata": {
        "id": "dHJDtcpNdPeM",
        "colab": {
          "base_uri": "https://localhost:8080/"
        },
        "outputId": "ba8bcfae-e097-42c1-d949-a86924240569"
      },
      "outputs": [
        {
          "output_type": "stream",
          "name": "stdout",
          "text": [
            "Model: \"model_14\"\n",
            "_________________________________________________________________\n",
            " Layer (type)                Output Shape              Param #   \n",
            "=================================================================\n",
            " input_17 (InputLayer)       [(None, None, None, 3)]   0         \n",
            "                                                                 \n",
            " block1_conv1 (Conv2D)       (None, None, None, 64)    1792      \n",
            "                                                                 \n",
            " block1_conv2 (Conv2D)       (None, None, None, 64)    36928     \n",
            "                                                                 \n",
            " block1_pool (MaxPooling2D)  (None, None, None, 64)    0         \n",
            "                                                                 \n",
            " block2_conv1 (Conv2D)       (None, None, None, 128)   73856     \n",
            "                                                                 \n",
            " block2_conv2 (Conv2D)       (None, None, None, 128)   147584    \n",
            "                                                                 \n",
            " block2_pool (MaxPooling2D)  (None, None, None, 128)   0         \n",
            "                                                                 \n",
            " block3_conv1 (Conv2D)       (None, None, None, 256)   295168    \n",
            "                                                                 \n",
            " block3_conv2 (Conv2D)       (None, None, None, 256)   590080    \n",
            "                                                                 \n",
            " block3_conv3 (Conv2D)       (None, None, None, 256)   590080    \n",
            "                                                                 \n",
            " block3_pool (MaxPooling2D)  (None, None, None, 256)   0         \n",
            "                                                                 \n",
            " block4_conv1 (Conv2D)       (None, None, None, 512)   1180160   \n",
            "                                                                 \n",
            " block4_conv2 (Conv2D)       (None, None, None, 512)   2359808   \n",
            "                                                                 \n",
            " block4_conv3 (Conv2D)       (None, None, None, 512)   2359808   \n",
            "                                                                 \n",
            " block4_pool (MaxPooling2D)  (None, None, None, 512)   0         \n",
            "                                                                 \n",
            " block5_conv1 (Conv2D)       (None, None, None, 512)   2359808   \n",
            "                                                                 \n",
            " block5_conv2 (Conv2D)       (None, None, None, 512)   2359808   \n",
            "                                                                 \n",
            " block5_conv3 (Conv2D)       (None, None, None, 512)   2359808   \n",
            "                                                                 \n",
            " block5_pool (MaxPooling2D)  (None, None, None, 512)   0         \n",
            "                                                                 \n",
            " global_average_pooling2d_15  (None, 512)              0         \n",
            "  (GlobalAveragePooling2D)                                       \n",
            "                                                                 \n",
            " dense_29 (Dense)            (None, 128)               65664     \n",
            "                                                                 \n",
            " dense_30 (Dense)            (None, 3)                 387       \n",
            "                                                                 \n",
            "=================================================================\n",
            "Total params: 14,780,739\n",
            "Trainable params: 66,051\n",
            "Non-trainable params: 14,714,688\n",
            "_________________________________________________________________\n"
          ]
        }
      ],
      "source": [
        "x = conv_base.output\n",
        "x = layers.GlobalAveragePooling2D()(x)\n",
        "x = layers.Dense(128, activation='relu')(x) \n",
        "\n",
        "predictions = layers.Dense(qtde_classes, activation='softmax')(x)\n",
        "model = Model(conv_base.input, predictions)\n",
        "\n",
        "model.summary()"
      ]
    },
    {
      "cell_type": "code",
      "execution_count": 129,
      "metadata": {
        "id": "phbckrwXdPeN"
      },
      "outputs": [],
      "source": [
        "optimizer = optimizers.Adam()\n",
        "model.compile(loss='categorical_crossentropy', optimizer=optimizer, metrics=[precision_score, recall_score, f1_score])"
      ]
    },
    {
      "cell_type": "code",
      "execution_count": 130,
      "metadata": {
        "id": "CFn03yVvdPeN",
        "colab": {
          "base_uri": "https://localhost:8080/"
        },
        "outputId": "4230c657-13fd-4a79-b46a-e1914a4acd91"
      },
      "outputs": [
        {
          "output_type": "stream",
          "name": "stdout",
          "text": [
            "Epoch 1/7\n",
            "5/5 [==============================] - 7s 1s/step - loss: 2.6963 - precision_score: 0.4012 - recall_score: 0.3825 - f1_score: 0.3913 - val_loss: 1.5763 - val_precision_score: 0.4539 - val_recall_score: 0.4062 - val_f1_score: 0.4285\n",
            "Epoch 2/7\n",
            "5/5 [==============================] - 5s 1s/step - loss: 0.7952 - precision_score: 0.6946 - recall_score: 0.6375 - f1_score: 0.6644 - val_loss: 1.0649 - val_precision_score: 0.6425 - val_recall_score: 0.5938 - val_f1_score: 0.6168\n",
            "Epoch 3/7\n",
            "5/5 [==============================] - 6s 1s/step - loss: 0.3374 - precision_score: 0.8865 - recall_score: 0.8500 - f1_score: 0.8677 - val_loss: 0.8727 - val_precision_score: 0.7430 - val_recall_score: 0.7188 - val_f1_score: 0.7305\n",
            "Epoch 4/7\n",
            "5/5 [==============================] - 6s 1s/step - loss: 0.2704 - precision_score: 0.9353 - recall_score: 0.8962 - f1_score: 0.9153 - val_loss: 0.8337 - val_precision_score: 0.7734 - val_recall_score: 0.7500 - val_f1_score: 0.7614\n",
            "Epoch 5/7\n",
            "5/5 [==============================] - 6s 1s/step - loss: 0.1333 - precision_score: 0.9746 - recall_score: 0.9587 - f1_score: 0.9665 - val_loss: 0.7767 - val_precision_score: 0.7939 - val_recall_score: 0.7688 - val_f1_score: 0.7809\n",
            "Epoch 6/7\n",
            "5/5 [==============================] - 6s 1s/step - loss: 0.1009 - precision_score: 0.9750 - recall_score: 0.9688 - f1_score: 0.9718 - val_loss: 0.8949 - val_precision_score: 0.7536 - val_recall_score: 0.7437 - val_f1_score: 0.7486\n",
            "Epoch 7/7\n",
            "5/5 [==============================] - 6s 1s/step - loss: 0.0737 - precision_score: 0.9937 - recall_score: 0.9837 - f1_score: 0.9886 - val_loss: 0.8462 - val_precision_score: 0.7701 - val_recall_score: 0.7563 - val_f1_score: 0.7630\n"
          ]
        }
      ],
      "source": [
        "history = model.fit(train_generator, epochs=qtde_epocas, validation_steps=5, steps_per_epoch=5, \n",
        "                    validation_data=val_generator)"
      ]
    },
    {
      "cell_type": "markdown",
      "metadata": {
        "id": "ieenM0zodPeN"
      },
      "source": [
        "Um modelo que converge bem possui o gráfico de perda (*loss*) descendente e os gráfico de precisão (*precision*), sensibilidade (*recall*) e pontuação f1 (*f1 score*) em acendente."
      ]
    },
    {
      "cell_type": "code",
      "execution_count": 131,
      "metadata": {
        "id": "E2htPrjzdPeO",
        "colab": {
          "base_uri": "https://localhost:8080/",
          "height": 1000
        },
        "outputId": "fa66ff05-1d3b-4424-8788-bec5f5cebaff"
      },
      "outputs": [
        {
          "output_type": "display_data",
          "data": {
            "text/plain": [
              "<Figure size 432x288 with 1 Axes>"
            ],
            "image/png": "[encoded data removed]"
          },
          "metadata": {
            "needs_background": "light"
          }
        },
        {
          "output_type": "display_data",
          "data": {
            "text/plain": [
              "<Figure size 432x288 with 1 Axes>"
            ],
            "image/png": "[encoded data removed]"
          },
          "metadata": {
            "needs_background": "light"
          }
        },
        {
          "output_type": "display_data",
          "data": {
            "text/plain": [
              "<Figure size 432x288 with 1 Axes>"
            ],
            "image/png": "[encoded data removed]"
          },
          "metadata": {
            "needs_background": "light"
          }
        },
        {
          "output_type": "display_data",
          "data": {
            "text/plain": [
              "<Figure size 432x288 with 1 Axes>"
            ],
            "image/png": "[encoded data removed]"
          },
          "metadata": {
            "needs_background": "light"
          }
        }
      ],
      "source": [
        "# Exibindo dados de Precisão\n",
        "plt.plot(history.history['precision_score'])\n",
        "plt.plot(history.history['val_precision_score'])\n",
        "plt.title('model precision')\n",
        "plt.ylabel('precision')\n",
        "plt.xlabel('epoch')\n",
        "plt.legend(['train', 'test'], loc='upper left')\n",
        "plt.show()\n",
        "\n",
        "# Exibindo dados de Sensibilidade\n",
        "plt.plot(history.history['recall_score'])\n",
        "plt.plot(history.history['val_recall_score'])\n",
        "plt.title('model recall')\n",
        "plt.ylabel('recall')\n",
        "plt.xlabel('epoch')\n",
        "plt.legend(['train', 'test'], loc='upper left')\n",
        "plt.show()\n",
        "\n",
        "# Exibindo dados de F1 Score\n",
        "plt.plot(history.history['f1_score'])\n",
        "plt.plot(history.history['val_f1_score'])\n",
        "plt.title('model f1_score')\n",
        "plt.ylabel('f1_score')\n",
        "plt.xlabel('epoch')\n",
        "plt.legend(['train', 'test'], loc='upper left')\n",
        "plt.show()\n",
        "\n",
        "# Exibindo dados de Perda\n",
        "plt.plot(history.history['loss'])\n",
        "plt.plot(history.history['val_loss'])\n",
        "plt.title('model loss')\n",
        "plt.ylabel('loss')\n",
        "plt.xlabel('epoch')\n",
        "plt.legend(['train', 'test'], loc='upper left')\n",
        "plt.show()"
      ]
    },
    {
      "cell_type": "markdown",
      "metadata": {
        "id": "nHqj4WKvdPeO"
      },
      "source": [
        "**Pergunta**: Avalie os gráficos de perda (*loss*), precisão (*precision*), sensibilidade (*recall*) e pontuação f1 (*f1 score*)  e explique o comportamento de ambos no que tange a convergência do modelo."
      ]
    },
    {
      "cell_type": "markdown",
      "metadata": {
        "id": "zeXCnYkNdPeP"
      },
      "source": [
        "**Resposta**:\n",
        "\n",
        "Após realizarmos o teste com 20 épocas, percebemos que após a 7º época, os indicadores de precisão, recall e f1, começaram a convergir, demonstrando estabilidade.\n",
        "\n",
        "Dessa forma concluímos que 7 épocas foi o número ideal para o treinamento, de forma que os indicadores de precisão, precisão e f1 ficaram com tendência de alta, e a métrica de loss com tendência de queda.\n",
        "\n",
        "Em relação ao modelo anterior, apesar de convergir em um número inferior de épocas e consequentemente menos tempo de treinamento, apresentou indicadores consideravelmente inferiores ao ResNet50."
      ]
    },
    {
      "cell_type": "markdown",
      "metadata": {
        "id": "vVwfv9-ZdPeP"
      },
      "source": [
        "**Pergunta**: Quais são os valores de **precisão (precision)**, **sensibilidade (recall)** de validação? \n",
        "\n",
        "*Estes valores são exibidos durante o treinamento, utilize a última saída, exemplo:*\n",
        "\n",
        "```\n",
        "Epoch 10/10 [==============================] - 45s 9s/step - loss: 0.1234 - precision_score: 0.9742 - recall_score: 0.9683 - f1_score: 0.9712 - val_loss: 0.8819 - val_precision_score: 0.6912 - val_recall_score: 0.5649 - val_f1_score: 0.6216```\n",
        "\n",
        "No caso acima, o valor de precisão, sensibilidade e pontuação de validação são, respectivamente, 69,12%, 56,49% e 62,16%."
      ]
    },
    {
      "cell_type": "markdown",
      "metadata": {
        "id": "daayzbzAdPeQ"
      },
      "source": [
        "**Resposta**:\n",
        "\n",
        "**Métricas VGG16 (Validação)**<br><br>\n",
        "\n",
        "**Perda**: 84.62% <br>\n",
        "**Precisão**: 77.01% <br>\n",
        "**Recall**: 75.63% <br>\n",
        "**F1**: 76.30% <br>\n",
        "**Tempo de Treinamento:** 40 segundos (GPU) <br>\n",
        "**Qtde de épocas:** 7 "
      ]
    },
    {
      "cell_type": "markdown",
      "metadata": {
        "id": "ybfAwTeUdPeQ"
      },
      "source": [
        "### 4.5.3 Arquitetura VGG19"
      ]
    },
    {
      "cell_type": "markdown",
      "metadata": {
        "id": "3dkoLi8udPeQ"
      },
      "source": [
        "**Pergunta**: Explique como é constituída a arquitetura do VGG19? *Utilize, se necessário, gráficos, projetos que utilizam essa arquitetura. Detalhe também sua topologia em camadas e mostre quais as situações essa arquitetura pode ter mais êxito e quais cenários não tem.*"
      ]
    },
    {
      "cell_type": "markdown",
      "metadata": {
        "id": "SJh11D8rdPeQ"
      },
      "source": [
        "**Resposta**:\n",
        "\n",
        "\"VGG\" significa \"Visual Geometry Group\", e o número 19 indica o número de camadas, ou seja, os modelos VGG16 e VGG19, diferem em relação ao número de camadas de convolução e max pooling utilizados.\n",
        "\n",
        "Este modelo trabalha com uma rede neural convolucional, e com imagens RGB com padrão 224x224.\n",
        "\n",
        "Inicialmente o modelo faz convoluções com kernel 3x3 e stride de 1 pixel e ativação ReLu, seguidas de max pooling com kernel 2x2 e stride 2.\n",
        "\n",
        "No final há camadas \"Fully Connected\" (FC) com pesos e ativação ReLu, e por fim utiliza a função Softmax que calcula a saída baseada em probabilidade.\n",
        "\n",
        "Abaixo um desenho da arquitetura:\n",
        "\n",
        "<p text-align=\"center\">\n",
        "  <img src=\"https://www.researchgate.net/profile/Mohammad-Motiur-Rahman/publication/338586804/figure/fig2/AS:852351422304257@1580227823584/Fine-tuned-VGG19-CNN-architecture.png\" />\n",
        "</p>\n",
        "\n",
        "**Referências:**<br>\n",
        "https://keras.io/api/applications/vgg/ <br>\n",
        "https://iq.opengenus.org/vgg19-architecture/ <br>\n",
        "https://towardsdatascience.com/tagged/vgg19<br>\n",
        "\n",
        "\n",
        "**Projetos:** <br>\n",
        "Detecção de COVID-19 através de imagens de Raio X <br>\n",
        "https://medium.com/analytics-vidhya/python-based-project-covid-19-detector-with-vgg-19-convolutional-neural-network-f9602fc40b81 <br>\n",
        "\n",
        "Classificação de imagens de culinária: <br>\n",
        "https://rpal.cse.usf.edu/reports/state_recognition_symposium_2019/2019-13.pdf\n",
        "\n",
        "\n",
        "**Paper oficial:** <br>\n",
        "https://arxiv.org/abs/1409.1556\n",
        "\n"
      ]
    },
    {
      "cell_type": "code",
      "source": [
        "qtde_epocas = 4"
      ],
      "metadata": {
        "id": "M3poslF6titw"
      },
      "execution_count": 156,
      "outputs": []
    },
    {
      "cell_type": "code",
      "execution_count": 157,
      "metadata": {
        "id": "oCE9ACwqdPeR"
      },
      "outputs": [],
      "source": [
        "conv_base = VGG19(include_top=False)\n",
        "\n",
        "for layer in conv_base.layers:\n",
        "    layer.trainable = False"
      ]
    },
    {
      "cell_type": "code",
      "execution_count": 158,
      "metadata": {
        "id": "XcJKTcrgdPeR",
        "colab": {
          "base_uri": "https://localhost:8080/"
        },
        "outputId": "166809ec-68f0-4356-a8ef-04267d1d6e74"
      },
      "outputs": [
        {
          "output_type": "stream",
          "name": "stdout",
          "text": [
            "Model: \"model_19\"\n",
            "_________________________________________________________________\n",
            " Layer (type)                Output Shape              Param #   \n",
            "=================================================================\n",
            " input_22 (InputLayer)       [(None, None, None, 3)]   0         \n",
            "                                                                 \n",
            " block1_conv1 (Conv2D)       (None, None, None, 64)    1792      \n",
            "                                                                 \n",
            " block1_conv2 (Conv2D)       (None, None, None, 64)    36928     \n",
            "                                                                 \n",
            " block1_pool (MaxPooling2D)  (None, None, None, 64)    0         \n",
            "                                                                 \n",
            " block2_conv1 (Conv2D)       (None, None, None, 128)   73856     \n",
            "                                                                 \n",
            " block2_conv2 (Conv2D)       (None, None, None, 128)   147584    \n",
            "                                                                 \n",
            " block2_pool (MaxPooling2D)  (None, None, None, 128)   0         \n",
            "                                                                 \n",
            " block3_conv1 (Conv2D)       (None, None, None, 256)   295168    \n",
            "                                                                 \n",
            " block3_conv2 (Conv2D)       (None, None, None, 256)   590080    \n",
            "                                                                 \n",
            " block3_conv3 (Conv2D)       (None, None, None, 256)   590080    \n",
            "                                                                 \n",
            " block3_conv4 (Conv2D)       (None, None, None, 256)   590080    \n",
            "                                                                 \n",
            " block3_pool (MaxPooling2D)  (None, None, None, 256)   0         \n",
            "                                                                 \n",
            " block4_conv1 (Conv2D)       (None, None, None, 512)   1180160   \n",
            "                                                                 \n",
            " block4_conv2 (Conv2D)       (None, None, None, 512)   2359808   \n",
            "                                                                 \n",
            " block4_conv3 (Conv2D)       (None, None, None, 512)   2359808   \n",
            "                                                                 \n",
            " block4_conv4 (Conv2D)       (None, None, None, 512)   2359808   \n",
            "                                                                 \n",
            " block4_pool (MaxPooling2D)  (None, None, None, 512)   0         \n",
            "                                                                 \n",
            " block5_conv1 (Conv2D)       (None, None, None, 512)   2359808   \n",
            "                                                                 \n",
            " block5_conv2 (Conv2D)       (None, None, None, 512)   2359808   \n",
            "                                                                 \n",
            " block5_conv3 (Conv2D)       (None, None, None, 512)   2359808   \n",
            "                                                                 \n",
            " block5_conv4 (Conv2D)       (None, None, None, 512)   2359808   \n",
            "                                                                 \n",
            " block5_pool (MaxPooling2D)  (None, None, None, 512)   0         \n",
            "                                                                 \n",
            " global_average_pooling2d_20  (None, 512)              0         \n",
            "  (GlobalAveragePooling2D)                                       \n",
            "                                                                 \n",
            " dense_39 (Dense)            (None, 128)               65664     \n",
            "                                                                 \n",
            " dense_40 (Dense)            (None, 3)                 387       \n",
            "                                                                 \n",
            "=================================================================\n",
            "Total params: 20,090,435\n",
            "Trainable params: 66,051\n",
            "Non-trainable params: 20,024,384\n",
            "_________________________________________________________________\n"
          ]
        }
      ],
      "source": [
        "x = conv_base.output\n",
        "x = layers.GlobalAveragePooling2D()(x)\n",
        "x = layers.Dense(128, activation='relu')(x) \n",
        "\n",
        "predictions = layers.Dense(qtde_classes, activation='softmax')(x)\n",
        "model = Model(conv_base.input, predictions)\n",
        "\n",
        "model.summary()"
      ]
    },
    {
      "cell_type": "code",
      "execution_count": 159,
      "metadata": {
        "id": "BuxuJjwydPeR"
      },
      "outputs": [],
      "source": [
        "optimizer = optimizers.Adam()\n",
        "model.compile(loss='categorical_crossentropy', optimizer=optimizer, metrics=[precision_score, recall_score, f1_score])"
      ]
    },
    {
      "cell_type": "markdown",
      "source": [
        ""
      ],
      "metadata": {
        "id": "HZanyEe-mauW"
      }
    },
    {
      "cell_type": "code",
      "execution_count": 160,
      "metadata": {
        "id": "OA-BMJWqdPeR",
        "colab": {
          "base_uri": "https://localhost:8080/"
        },
        "outputId": "6329d032-e934-426b-cc69-357c8dc22613"
      },
      "outputs": [
        {
          "output_type": "stream",
          "name": "stdout",
          "text": [
            "Epoch 1/4\n",
            "5/5 [==============================] - 8s 1s/step - loss: 2.8695 - precision_score: 0.3596 - recall_score: 0.3550 - f1_score: 0.3573 - val_loss: 2.1005 - val_precision_score: 0.4208 - val_recall_score: 0.4000 - val_f1_score: 0.4100\n",
            "Epoch 2/4\n",
            "5/5 [==============================] - 5s 1s/step - loss: 1.2943 - precision_score: 0.6352 - recall_score: 0.6062 - f1_score: 0.6202 - val_loss: 1.3448 - val_precision_score: 0.6407 - val_recall_score: 0.6125 - val_f1_score: 0.6262\n",
            "Epoch 3/4\n",
            "5/5 [==============================] - 6s 1s/step - loss: 0.4423 - precision_score: 0.8480 - recall_score: 0.8375 - f1_score: 0.8427 - val_loss: 0.8696 - val_precision_score: 0.7151 - val_recall_score: 0.7063 - val_f1_score: 0.7106\n",
            "Epoch 4/4\n",
            "5/5 [==============================] - 5s 1s/step - loss: 0.2974 - precision_score: 0.8656 - recall_score: 0.8600 - f1_score: 0.8628 - val_loss: 0.8975 - val_precision_score: 0.7347 - val_recall_score: 0.7250 - val_f1_score: 0.7298\n"
          ]
        }
      ],
      "source": [
        "history = model.fit(train_generator, epochs=qtde_epocas, validation_steps=5, steps_per_epoch=5, \n",
        "                    validation_data=val_generator)"
      ]
    },
    {
      "cell_type": "markdown",
      "metadata": {
        "id": "SdZ_J5eDdPeS"
      },
      "source": [
        "Um modelo que converge bem possui o gráfico de perda (*loss*) descendente e os gráfico de precisão (*precision*), sensibilidade (*recall*) e pontuação f1 (*f1 score*) em acendente."
      ]
    },
    {
      "cell_type": "code",
      "execution_count": 161,
      "metadata": {
        "id": "Tg9narRLdPeS",
        "colab": {
          "base_uri": "https://localhost:8080/",
          "height": 1000
        },
        "outputId": "a8b6665a-c478-401d-8a6f-78176c13af95"
      },
      "outputs": [
        {
          "output_type": "display_data",
          "data": {
            "text/plain": [
              "<Figure size 432x288 with 1 Axes>"
            ],
            "image/png": "[encoded data removed]"
          },
          "metadata": {
            "needs_background": "light"
          }
        },
        {
          "output_type": "display_data",
          "data": {
            "text/plain": [
              "<Figure size 432x288 with 1 Axes>"
            ],
            "image/png": "[encoded data removed]"
          },
          "metadata": {
            "needs_background": "light"
          }
        },
        {
          "output_type": "display_data",
          "data": {
            "text/plain": [
              "<Figure size 432x288 with 1 Axes>"
            ],
            "image/png": "[encoded data removed]"
          },
          "metadata": {
            "needs_background": "light"
          }
        },
        {
          "output_type": "display_data",
          "data": {
            "text/plain": [
              "<Figure size 432x288 with 1 Axes>"
            ],
            "image/png": "[encoded data removed]"
          },
          "metadata": {
            "needs_background": "light"
          }
        }
      ],
      "source": [
        "# Exibindo dados de Precisão\n",
        "plt.plot(history.history['precision_score'])\n",
        "plt.plot(history.history['val_precision_score'])\n",
        "plt.title('model precision')\n",
        "plt.ylabel('precision')\n",
        "plt.xlabel('epoch')\n",
        "plt.legend(['train', 'test'], loc='upper left')\n",
        "plt.show()\n",
        "\n",
        "# Exibindo dados de Sensibilidade\n",
        "plt.plot(history.history['recall_score'])\n",
        "plt.plot(history.history['val_recall_score'])\n",
        "plt.title('model recall')\n",
        "plt.ylabel('recall')\n",
        "plt.xlabel('epoch')\n",
        "plt.legend(['train', 'test'], loc='upper left')\n",
        "plt.show()\n",
        "\n",
        "# Exibindo dados de F1 Score\n",
        "plt.plot(history.history['f1_score'])\n",
        "plt.plot(history.history['val_f1_score'])\n",
        "plt.title('model f1_score')\n",
        "plt.ylabel('f1_score')\n",
        "plt.xlabel('epoch')\n",
        "plt.legend(['train', 'test'], loc='upper left')\n",
        "plt.show()\n",
        "\n",
        "# Exibindo dados de Perda\n",
        "plt.plot(history.history['loss'])\n",
        "plt.plot(history.history['val_loss'])\n",
        "plt.title('model loss')\n",
        "plt.ylabel('loss')\n",
        "plt.xlabel('epoch')\n",
        "plt.legend(['train', 'test'], loc='upper left')\n",
        "plt.show()"
      ]
    },
    {
      "cell_type": "markdown",
      "metadata": {
        "id": "5DI1zgsJdPeS"
      },
      "source": [
        "**Pergunta**: Avalie os gráficos de perda (*loss*), precisão (*precision*), sensibilidade (*recall*) e pontuação f1 (*f1 score*)  e explique o comportamento de ambos no que tange a convergência do modelo."
      ]
    },
    {
      "cell_type": "markdown",
      "metadata": {
        "id": "g4uslxYFdPeT"
      },
      "source": [
        "**Resposta**:\n",
        "\n",
        "Ao realizarmos um teste inicial com 20 épocas, vimos que após a 4º iteração, os indicadores começaram a piorar, logo o modelo atingiu a convergência com apenas 4 épocas.\n",
        "\n",
        "Apesar de precisar de um número menor de épocas para convergir, neste cenário o VGG16 mostrou um desempenho maior, demonstrando que dada a complexidade do problema, pode ser mais vantajoso trabalhar com um modelo com um número menor de camadas para evitar extrair features desnecessárias da imagem."
      ]
    },
    {
      "cell_type": "markdown",
      "metadata": {
        "id": "oOvN91fqdPeT"
      },
      "source": [
        "**Pergunta**: Quais são os valores de **precisão (precision)**, **sensibilidade (recall)** de validação? \n",
        "\n",
        "*Estes valores são exibidos durante o treinamento, utilize a última saída, exemplo:*\n",
        "\n",
        "```\n",
        "Epoch 10/10 [==============================] - 45s 9s/step - loss: 0.1234 - precision_score: 0.9742 - recall_score: 0.9683 - f1_score: 0.9712 - val_loss: 0.8819 - val_precision_score: 0.6912 - val_recall_score: 0.5649 - val_f1_score: 0.6216```\n",
        "\n",
        "No caso acima, o valor de precisão, sensibilidade e pontuação de validação são, respectivamente, 69,12%, 56,49% e 62,16%."
      ]
    },
    {
      "cell_type": "markdown",
      "metadata": {
        "id": "Lk-rNu4adPeT"
      },
      "source": [
        "**Resposta**:\n",
        "\n",
        "**Métricas VGG19 (Validação)** <br><br>\n",
        "\n",
        "**Perda**: 89.75% <br>\n",
        "**Precisão**: 73.47% <br>\n",
        "**Recall** 72.50% <br>\n",
        "**F1**: 72.98% <br>\n",
        "**Tempo de treinamento**: 24 segundos (GPU) <br>\n",
        "**Qtde de Épocas:** 4"
      ]
    },
    {
      "cell_type": "markdown",
      "metadata": {
        "id": "4dpALnxqdPeT"
      },
      "source": [
        "## 4.6 Compartivo de arquiteturas\n",
        "\n",
        "Preencha a tabela abaixo com os valores dos indicadores de performance apresentados.\n",
        "\n",
        "_O cálculo do F1-Score é dado por 2 * (Precisão * Sensibilidade) / (Precisão + Sensibilidade)._"
      ]
    },
    {
      "cell_type": "markdown",
      "metadata": {
        "id": "j95JIuQCdPeU"
      },
      "source": [
        "| Modelo   | Precisão (*Precision*) | Sensibilidade (*Recall*) | F1-Score |\n",
        "|----------|----------|---------------|----------|\n",
        "| ResNet50 | 87,42 %     | 86,87 %          | 87,14 %     |\n",
        "| VGG16    | 77.01 %     | 75.63 %          | 76.30 %     |\n",
        "| VGG19    | 73.47 %     | 72.50 %          | 72.98 %     |"
      ]
    },
    {
      "cell_type": "markdown",
      "metadata": {
        "id": "dkbjkd4WdPeU"
      },
      "source": [
        "## 4.7 Conclusões\n",
        "\n",
        "Analise os resultados da tabela de indicadores do comparativo de arquiteturas e explique os principais motivos pelos quais cada modelo obteve cada resultado."
      ]
    },
    {
      "cell_type": "markdown",
      "metadata": {
        "id": "GIirSNXkdPeU"
      },
      "source": [
        "**Resposta**:\n",
        "\n",
        "A conclusão que tiramos dos três modelos testados, é que o modelo ResNet50 demonstrou um desempenho superior, pois mostrou indicadores de precisão, recall e f1 próximos de 87%, além de demonstrar o menor indicador de perda.\n",
        "\n",
        "O modelo VGG19, apesar de ter os piores indicadores, pode ser interessante em um cenário onde o poder de processamento é escasso, pois ele demonstrou precisar de um número menor de épocas para atingir a convergência. Ou também pode ser interessante em um cenário com maior complexidade, pois por possuir um número maior de camadas de convolução e pooling, pode extrair mais características das imagens.\n",
        "\n",
        "O modelo VGG16, pode ser considerado um meio termo, pois mostrou um tempo de treinamento um pouco menor que o ResNet e precisou de menos épocas para convergir, além de demonstrar também um ótimo desempenho.\n",
        "\n",
        "No entanto, para o contexto atual com poucas imagens, o modelo ResNet seria a melhor escolha, pois o tempo de treinamento não foi consideravelmente maior do que os outros 2 modelos testados (VGG16 e VGG19).\n"
      ]
    },
    {
      "cell_type": "markdown",
      "metadata": {
        "id": "GMm7gi64dPeU"
      },
      "source": [
        "## 4.8 Abordagem adicional (obrigatório)\n",
        "\n",
        "Considerando os outros classificadores, escolha outro que ainda não foi utilizado, implemente abaixo. Ao final compare os resultados e explique os resultados.\n",
        "\n",
        "_Não se esquece de utilizar as importações adequadas para cada modelo.\n",
        "A forma de implementação deve respeitar as mesmas condições como valor de split e quantidade de imagens para poder comparar os modelos._"
      ]
    },
    {
      "cell_type": "markdown",
      "source": [
        "**InceptionV3**:\n",
        "\n",
        "O Inception v3 é um modelo de transfer learning, usado em reconhecimento de imagens utilizando uma rede convulacional (CNN). Esse modelo foi feito por vários pesquisadores ao longo de anos, e é baseado no documento original [Rethinking the Inception Architecture for Computer Vision](https://arxiv.org/abs/1512.00567), de Szegedy e outros autores.\n",
        "\n",
        "Este modelo também foi testado utilizando o base de imagens [ImageNet](https://image-net.org/index.php) e teve um ótimo desempenho em competiçõe e cases reais.\n",
        "\n",
        "O modelo inclui elementos básicos simétricos e assimétricos como: <br><br>\n",
        "\n",
        "* Convoluções; <br>\n",
        "* Pool médio; <br>\n",
        "* Pool máximo; <br>\n",
        "* Concatenate <br>\n",
        "* Dropouts; <br>\n",
        "* Camadas totalmente conectadas. \n",
        "* A perda é calculada usando Softmax. <br><br>\n",
        "\n",
        "Abaixo um desenho da arquitetura:\n",
        "\n",
        "<p text-align=\"center\">\n",
        "  <img src=\"https://4.bp.blogspot.com/-TMOLlkJBxms/Vt3HQXpE2cI/AAAAAAAAA8E/7X7XRFOY6Xo/s1600/image03.png\" />\n",
        "</p>\n",
        "\n",
        "**Referências:** <br>\n",
        "https://keras.io/api/applications/inceptionv3 <br>\n",
        "https://cloud.google.com/tpu/docs/tutorials/inception?hl=pt-br<br><br>\n",
        "\n",
        "**Projetos:** <br>\n",
        "Detecção de Cancer de Pele <br>\n",
        "https://www.diva-portal.org/smash/get/diva2:1112097/FULLTEXT01.pdf <br>\n",
        "Classificação de Carros: <br>\n",
        "https://towardsdatascience.com/car-classification-using-inception-v3-71b63e9825b7\n",
        "<br><br>\n",
        "\n",
        "\n",
        "**Paper oficial:** <br>\n",
        "https://arxiv.org/abs/1512.00567\n",
        "\n"
      ],
      "metadata": {
        "id": "Lr1NERpTzvB9"
      }
    },
    {
      "cell_type": "code",
      "execution_count": 17,
      "metadata": {
        "id": "cG1cQ0CjdPeV",
        "colab": {
          "base_uri": "https://localhost:8080/"
        },
        "outputId": "f4a4a4d0-0390-4ce9-a6f5-bc655ba807f1"
      },
      "outputs": [
        {
          "output_type": "stream",
          "name": "stdout",
          "text": [
            "Model: \"model_1\"\n",
            "__________________________________________________________________________________________________\n",
            " Layer (type)                   Output Shape         Param #     Connected to                     \n",
            "==================================================================================================\n",
            " input_2 (InputLayer)           [(None, None, None,  0           []                               \n",
            "                                 3)]                                                              \n",
            "                                                                                                  \n",
            " conv2d_94 (Conv2D)             (None, None, None,   864         ['input_2[0][0]']                \n",
            "                                32)                                                               \n",
            "                                                                                                  \n",
            " batch_normalization_94 (BatchN  (None, None, None,   96         ['conv2d_94[0][0]']              \n",
            " ormalization)                  32)                                                               \n",
            "                                                                                                  \n",
            " activation_94 (Activation)     (None, None, None,   0           ['batch_normalization_94[0][0]'] \n",
            "                                32)                                                               \n",
            "                                                                                                  \n",
            " conv2d_95 (Conv2D)             (None, None, None,   9216        ['activation_94[0][0]']          \n",
            "                                32)                                                               \n",
            "                                                                                                  \n",
            " batch_normalization_95 (BatchN  (None, None, None,   96         ['conv2d_95[0][0]']              \n",
            " ormalization)                  32)                                                               \n",
            "                                                                                                  \n",
            " activation_95 (Activation)     (None, None, None,   0           ['batch_normalization_95[0][0]'] \n",
            "                                32)                                                               \n",
            "                                                                                                  \n",
            " conv2d_96 (Conv2D)             (None, None, None,   18432       ['activation_95[0][0]']          \n",
            "                                64)                                                               \n",
            "                                                                                                  \n",
            " batch_normalization_96 (BatchN  (None, None, None,   192        ['conv2d_96[0][0]']              \n",
            " ormalization)                  64)                                                               \n",
            "                                                                                                  \n",
            " activation_96 (Activation)     (None, None, None,   0           ['batch_normalization_96[0][0]'] \n",
            "                                64)                                                               \n",
            "                                                                                                  \n",
            " max_pooling2d_4 (MaxPooling2D)  (None, None, None,   0          ['activation_96[0][0]']          \n",
            "                                64)                                                               \n",
            "                                                                                                  \n",
            " conv2d_97 (Conv2D)             (None, None, None,   5120        ['max_pooling2d_4[0][0]']        \n",
            "                                80)                                                               \n",
            "                                                                                                  \n",
            " batch_normalization_97 (BatchN  (None, None, None,   240        ['conv2d_97[0][0]']              \n",
            " ormalization)                  80)                                                               \n",
            "                                                                                                  \n",
            " activation_97 (Activation)     (None, None, None,   0           ['batch_normalization_97[0][0]'] \n",
            "                                80)                                                               \n",
            "                                                                                                  \n",
            " conv2d_98 (Conv2D)             (None, None, None,   138240      ['activation_97[0][0]']          \n",
            "                                192)                                                              \n",
            "                                                                                                  \n",
            " batch_normalization_98 (BatchN  (None, None, None,   576        ['conv2d_98[0][0]']              \n",
            " ormalization)                  192)                                                              \n",
            "                                                                                                  \n",
            " activation_98 (Activation)     (None, None, None,   0           ['batch_normalization_98[0][0]'] \n",
            "                                192)                                                              \n",
            "                                                                                                  \n",
            " max_pooling2d_5 (MaxPooling2D)  (None, None, None,   0          ['activation_98[0][0]']          \n",
            "                                192)                                                              \n",
            "                                                                                                  \n",
            " conv2d_102 (Conv2D)            (None, None, None,   12288       ['max_pooling2d_5[0][0]']        \n",
            "                                64)                                                               \n",
            "                                                                                                  \n",
            " batch_normalization_102 (Batch  (None, None, None,   192        ['conv2d_102[0][0]']             \n",
            " Normalization)                 64)                                                               \n",
            "                                                                                                  \n",
            " activation_102 (Activation)    (None, None, None,   0           ['batch_normalization_102[0][0]']\n",
            "                                64)                                                               \n",
            "                                                                                                  \n",
            " conv2d_100 (Conv2D)            (None, None, None,   9216        ['max_pooling2d_5[0][0]']        \n",
            "                                48)                                                               \n",
            "                                                                                                  \n",
            " conv2d_103 (Conv2D)            (None, None, None,   55296       ['activation_102[0][0]']         \n",
            "                                96)                                                               \n",
            "                                                                                                  \n",
            " batch_normalization_100 (Batch  (None, None, None,   144        ['conv2d_100[0][0]']             \n",
            " Normalization)                 48)                                                               \n",
            "                                                                                                  \n",
            " batch_normalization_103 (Batch  (None, None, None,   288        ['conv2d_103[0][0]']             \n",
            " Normalization)                 96)                                                               \n",
            "                                                                                                  \n",
            " activation_100 (Activation)    (None, None, None,   0           ['batch_normalization_100[0][0]']\n",
            "                                48)                                                               \n",
            "                                                                                                  \n",
            " activation_103 (Activation)    (None, None, None,   0           ['batch_normalization_103[0][0]']\n",
            "                                96)                                                               \n",
            "                                                                                                  \n",
            " average_pooling2d_9 (AveragePo  (None, None, None,   0          ['max_pooling2d_5[0][0]']        \n",
            " oling2D)                       192)                                                              \n",
            "                                                                                                  \n",
            " conv2d_99 (Conv2D)             (None, None, None,   12288       ['max_pooling2d_5[0][0]']        \n",
            "                                64)                                                               \n",
            "                                                                                                  \n",
            " conv2d_101 (Conv2D)            (None, None, None,   76800       ['activation_100[0][0]']         \n",
            "                                64)                                                               \n",
            "                                                                                                  \n",
            " conv2d_104 (Conv2D)            (None, None, None,   82944       ['activation_103[0][0]']         \n",
            "                                96)                                                               \n",
            "                                                                                                  \n",
            " conv2d_105 (Conv2D)            (None, None, None,   6144        ['average_pooling2d_9[0][0]']    \n",
            "                                32)                                                               \n",
            "                                                                                                  \n",
            " batch_normalization_99 (BatchN  (None, None, None,   192        ['conv2d_99[0][0]']              \n",
            " ormalization)                  64)                                                               \n",
            "                                                                                                  \n",
            " batch_normalization_101 (Batch  (None, None, None,   192        ['conv2d_101[0][0]']             \n",
            " Normalization)                 64)                                                               \n",
            "                                                                                                  \n",
            " batch_normalization_104 (Batch  (None, None, None,   288        ['conv2d_104[0][0]']             \n",
            " Normalization)                 96)                                                               \n",
            "                                                                                                  \n",
            " batch_normalization_105 (Batch  (None, None, None,   96         ['conv2d_105[0][0]']             \n",
            " Normalization)                 32)                                                               \n",
            "                                                                                                  \n",
            " activation_99 (Activation)     (None, None, None,   0           ['batch_normalization_99[0][0]'] \n",
            "                                64)                                                               \n",
            "                                                                                                  \n",
            " activation_101 (Activation)    (None, None, None,   0           ['batch_normalization_101[0][0]']\n",
            "                                64)                                                               \n",
            "                                                                                                  \n",
            " activation_104 (Activation)    (None, None, None,   0           ['batch_normalization_104[0][0]']\n",
            "                                96)                                                               \n",
            "                                                                                                  \n",
            " activation_105 (Activation)    (None, None, None,   0           ['batch_normalization_105[0][0]']\n",
            "                                32)                                                               \n",
            "                                                                                                  \n",
            " mixed0 (Concatenate)           (None, None, None,   0           ['activation_99[0][0]',          \n",
            "                                256)                              'activation_101[0][0]',         \n",
            "                                                                  'activation_104[0][0]',         \n",
            "                                                                  'activation_105[0][0]']         \n",
            "                                                                                                  \n",
            " conv2d_109 (Conv2D)            (None, None, None,   16384       ['mixed0[0][0]']                 \n",
            "                                64)                                                               \n",
            "                                                                                                  \n",
            " batch_normalization_109 (Batch  (None, None, None,   192        ['conv2d_109[0][0]']             \n",
            " Normalization)                 64)                                                               \n",
            "                                                                                                  \n",
            " activation_109 (Activation)    (None, None, None,   0           ['batch_normalization_109[0][0]']\n",
            "                                64)                                                               \n",
            "                                                                                                  \n",
            " conv2d_107 (Conv2D)            (None, None, None,   12288       ['mixed0[0][0]']                 \n",
            "                                48)                                                               \n",
            "                                                                                                  \n",
            " conv2d_110 (Conv2D)            (None, None, None,   55296       ['activation_109[0][0]']         \n",
            "                                96)                                                               \n",
            "                                                                                                  \n",
            " batch_normalization_107 (Batch  (None, None, None,   144        ['conv2d_107[0][0]']             \n",
            " Normalization)                 48)                                                               \n",
            "                                                                                                  \n",
            " batch_normalization_110 (Batch  (None, None, None,   288        ['conv2d_110[0][0]']             \n",
            " Normalization)                 96)                                                               \n",
            "                                                                                                  \n",
            " activation_107 (Activation)    (None, None, None,   0           ['batch_normalization_107[0][0]']\n",
            "                                48)                                                               \n",
            "                                                                                                  \n",
            " activation_110 (Activation)    (None, None, None,   0           ['batch_normalization_110[0][0]']\n",
            "                                96)                                                               \n",
            "                                                                                                  \n",
            " average_pooling2d_10 (AverageP  (None, None, None,   0          ['mixed0[0][0]']                 \n",
            " ooling2D)                      256)                                                              \n",
            "                                                                                                  \n",
            " conv2d_106 (Conv2D)            (None, None, None,   16384       ['mixed0[0][0]']                 \n",
            "                                64)                                                               \n",
            "                                                                                                  \n",
            " conv2d_108 (Conv2D)            (None, None, None,   76800       ['activation_107[0][0]']         \n",
            "                                64)                                                               \n",
            "                                                                                                  \n",
            " conv2d_111 (Conv2D)            (None, None, None,   82944       ['activation_110[0][0]']         \n",
            "                                96)                                                               \n",
            "                                                                                                  \n",
            " conv2d_112 (Conv2D)            (None, None, None,   16384       ['average_pooling2d_10[0][0]']   \n",
            "                                64)                                                               \n",
            "                                                                                                  \n",
            " batch_normalization_106 (Batch  (None, None, None,   192        ['conv2d_106[0][0]']             \n",
            " Normalization)                 64)                                                               \n",
            "                                                                                                  \n",
            " batch_normalization_108 (Batch  (None, None, None,   192        ['conv2d_108[0][0]']             \n",
            " Normalization)                 64)                                                               \n",
            "                                                                                                  \n",
            " batch_normalization_111 (Batch  (None, None, None,   288        ['conv2d_111[0][0]']             \n",
            " Normalization)                 96)                                                               \n",
            "                                                                                                  \n",
            " batch_normalization_112 (Batch  (None, None, None,   192        ['conv2d_112[0][0]']             \n",
            " Normalization)                 64)                                                               \n",
            "                                                                                                  \n",
            " activation_106 (Activation)    (None, None, None,   0           ['batch_normalization_106[0][0]']\n",
            "                                64)                                                               \n",
            "                                                                                                  \n",
            " activation_108 (Activation)    (None, None, None,   0           ['batch_normalization_108[0][0]']\n",
            "                                64)                                                               \n",
            "                                                                                                  \n",
            " activation_111 (Activation)    (None, None, None,   0           ['batch_normalization_111[0][0]']\n",
            "                                96)                                                               \n",
            "                                                                                                  \n",
            " activation_112 (Activation)    (None, None, None,   0           ['batch_normalization_112[0][0]']\n",
            "                                64)                                                               \n",
            "                                                                                                  \n",
            " mixed1 (Concatenate)           (None, None, None,   0           ['activation_106[0][0]',         \n",
            "                                288)                              'activation_108[0][0]',         \n",
            "                                                                  'activation_111[0][0]',         \n",
            "                                                                  'activation_112[0][0]']         \n",
            "                                                                                                  \n",
            " conv2d_116 (Conv2D)            (None, None, None,   18432       ['mixed1[0][0]']                 \n",
            "                                64)                                                               \n",
            "                                                                                                  \n",
            " batch_normalization_116 (Batch  (None, None, None,   192        ['conv2d_116[0][0]']             \n",
            " Normalization)                 64)                                                               \n",
            "                                                                                                  \n",
            " activation_116 (Activation)    (None, None, None,   0           ['batch_normalization_116[0][0]']\n",
            "                                64)                                                               \n",
            "                                                                                                  \n",
            " conv2d_114 (Conv2D)            (None, None, None,   13824       ['mixed1[0][0]']                 \n",
            "                                48)                                                               \n",
            "                                                                                                  \n",
            " conv2d_117 (Conv2D)            (None, None, None,   55296       ['activation_116[0][0]']         \n",
            "                                96)                                                               \n",
            "                                                                                                  \n",
            " batch_normalization_114 (Batch  (None, None, None,   144        ['conv2d_114[0][0]']             \n",
            " Normalization)                 48)                                                               \n",
            "                                                                                                  \n",
            " batch_normalization_117 (Batch  (None, None, None,   288        ['conv2d_117[0][0]']             \n",
            " Normalization)                 96)                                                               \n",
            "                                                                                                  \n",
            " activation_114 (Activation)    (None, None, None,   0           ['batch_normalization_114[0][0]']\n",
            "                                48)                                                               \n",
            "                                                                                                  \n",
            " activation_117 (Activation)    (None, None, None,   0           ['batch_normalization_117[0][0]']\n",
            "                                96)                                                               \n",
            "                                                                                                  \n",
            " average_pooling2d_11 (AverageP  (None, None, None,   0          ['mixed1[0][0]']                 \n",
            " ooling2D)                      288)                                                              \n",
            "                                                                                                  \n",
            " conv2d_113 (Conv2D)            (None, None, None,   18432       ['mixed1[0][0]']                 \n",
            "                                64)                                                               \n",
            "                                                                                                  \n",
            " conv2d_115 (Conv2D)            (None, None, None,   76800       ['activation_114[0][0]']         \n",
            "                                64)                                                               \n",
            "                                                                                                  \n",
            " conv2d_118 (Conv2D)            (None, None, None,   82944       ['activation_117[0][0]']         \n",
            "                                96)                                                               \n",
            "                                                                                                  \n",
            " conv2d_119 (Conv2D)            (None, None, None,   18432       ['average_pooling2d_11[0][0]']   \n",
            "                                64)                                                               \n",
            "                                                                                                  \n",
            " batch_normalization_113 (Batch  (None, None, None,   192        ['conv2d_113[0][0]']             \n",
            " Normalization)                 64)                                                               \n",
            "                                                                                                  \n",
            " batch_normalization_115 (Batch  (None, None, None,   192        ['conv2d_115[0][0]']             \n",
            " Normalization)                 64)                                                               \n",
            "                                                                                                  \n",
            " batch_normalization_118 (Batch  (None, None, None,   288        ['conv2d_118[0][0]']             \n",
            " Normalization)                 96)                                                               \n",
            "                                                                                                  \n",
            " batch_normalization_119 (Batch  (None, None, None,   192        ['conv2d_119[0][0]']             \n",
            " Normalization)                 64)                                                               \n",
            "                                                                                                  \n",
            " activation_113 (Activation)    (None, None, None,   0           ['batch_normalization_113[0][0]']\n",
            "                                64)                                                               \n",
            "                                                                                                  \n",
            " activation_115 (Activation)    (None, None, None,   0           ['batch_normalization_115[0][0]']\n",
            "                                64)                                                               \n",
            "                                                                                                  \n",
            " activation_118 (Activation)    (None, None, None,   0           ['batch_normalization_118[0][0]']\n",
            "                                96)                                                               \n",
            "                                                                                                  \n",
            " activation_119 (Activation)    (None, None, None,   0           ['batch_normalization_119[0][0]']\n",
            "                                64)                                                               \n",
            "                                                                                                  \n",
            " mixed2 (Concatenate)           (None, None, None,   0           ['activation_113[0][0]',         \n",
            "                                288)                              'activation_115[0][0]',         \n",
            "                                                                  'activation_118[0][0]',         \n",
            "                                                                  'activation_119[0][0]']         \n",
            "                                                                                                  \n",
            " conv2d_121 (Conv2D)            (None, None, None,   18432       ['mixed2[0][0]']                 \n",
            "                                64)                                                               \n",
            "                                                                                                  \n",
            " batch_normalization_121 (Batch  (None, None, None,   192        ['conv2d_121[0][0]']             \n",
            " Normalization)                 64)                                                               \n",
            "                                                                                                  \n",
            " activation_121 (Activation)    (None, None, None,   0           ['batch_normalization_121[0][0]']\n",
            "                                64)                                                               \n",
            "                                                                                                  \n",
            " conv2d_122 (Conv2D)            (None, None, None,   55296       ['activation_121[0][0]']         \n",
            "                                96)                                                               \n",
            "                                                                                                  \n",
            " batch_normalization_122 (Batch  (None, None, None,   288        ['conv2d_122[0][0]']             \n",
            " Normalization)                 96)                                                               \n",
            "                                                                                                  \n",
            " activation_122 (Activation)    (None, None, None,   0           ['batch_normalization_122[0][0]']\n",
            "                                96)                                                               \n",
            "                                                                                                  \n",
            " conv2d_120 (Conv2D)            (None, None, None,   995328      ['mixed2[0][0]']                 \n",
            "                                384)                                                              \n",
            "                                                                                                  \n",
            " conv2d_123 (Conv2D)            (None, None, None,   82944       ['activation_122[0][0]']         \n",
            "                                96)                                                               \n",
            "                                                                                                  \n",
            " batch_normalization_120 (Batch  (None, None, None,   1152       ['conv2d_120[0][0]']             \n",
            " Normalization)                 384)                                                              \n",
            "                                                                                                  \n",
            " batch_normalization_123 (Batch  (None, None, None,   288        ['conv2d_123[0][0]']             \n",
            " Normalization)                 96)                                                               \n",
            "                                                                                                  \n",
            " activation_120 (Activation)    (None, None, None,   0           ['batch_normalization_120[0][0]']\n",
            "                                384)                                                              \n",
            "                                                                                                  \n",
            " activation_123 (Activation)    (None, None, None,   0           ['batch_normalization_123[0][0]']\n",
            "                                96)                                                               \n",
            "                                                                                                  \n",
            " max_pooling2d_6 (MaxPooling2D)  (None, None, None,   0          ['mixed2[0][0]']                 \n",
            "                                288)                                                              \n",
            "                                                                                                  \n",
            " mixed3 (Concatenate)           (None, None, None,   0           ['activation_120[0][0]',         \n",
            "                                768)                              'activation_123[0][0]',         \n",
            "                                                                  'max_pooling2d_6[0][0]']        \n",
            "                                                                                                  \n",
            " conv2d_128 (Conv2D)            (None, None, None,   98304       ['mixed3[0][0]']                 \n",
            "                                128)                                                              \n",
            "                                                                                                  \n",
            " batch_normalization_128 (Batch  (None, None, None,   384        ['conv2d_128[0][0]']             \n",
            " Normalization)                 128)                                                              \n",
            "                                                                                                  \n",
            " activation_128 (Activation)    (None, None, None,   0           ['batch_normalization_128[0][0]']\n",
            "                                128)                                                              \n",
            "                                                                                                  \n",
            " conv2d_129 (Conv2D)            (None, None, None,   114688      ['activation_128[0][0]']         \n",
            "                                128)                                                              \n",
            "                                                                                                  \n",
            " batch_normalization_129 (Batch  (None, None, None,   384        ['conv2d_129[0][0]']             \n",
            " Normalization)                 128)                                                              \n",
            "                                                                                                  \n",
            " activation_129 (Activation)    (None, None, None,   0           ['batch_normalization_129[0][0]']\n",
            "                                128)                                                              \n",
            "                                                                                                  \n",
            " conv2d_125 (Conv2D)            (None, None, None,   98304       ['mixed3[0][0]']                 \n",
            "                                128)                                                              \n",
            "                                                                                                  \n",
            " conv2d_130 (Conv2D)            (None, None, None,   114688      ['activation_129[0][0]']         \n",
            "                                128)                                                              \n",
            "                                                                                                  \n",
            " batch_normalization_125 (Batch  (None, None, None,   384        ['conv2d_125[0][0]']             \n",
            " Normalization)                 128)                                                              \n",
            "                                                                                                  \n",
            " batch_normalization_130 (Batch  (None, None, None,   384        ['conv2d_130[0][0]']             \n",
            " Normalization)                 128)                                                              \n",
            "                                                                                                  \n",
            " activation_125 (Activation)    (None, None, None,   0           ['batch_normalization_125[0][0]']\n",
            "                                128)                                                              \n",
            "                                                                                                  \n",
            " activation_130 (Activation)    (None, None, None,   0           ['batch_normalization_130[0][0]']\n",
            "                                128)                                                              \n",
            "                                                                                                  \n",
            " conv2d_126 (Conv2D)            (None, None, None,   114688      ['activation_125[0][0]']         \n",
            "                                128)                                                              \n",
            "                                                                                                  \n",
            " conv2d_131 (Conv2D)            (None, None, None,   114688      ['activation_130[0][0]']         \n",
            "                                128)                                                              \n",
            "                                                                                                  \n",
            " batch_normalization_126 (Batch  (None, None, None,   384        ['conv2d_126[0][0]']             \n",
            " Normalization)                 128)                                                              \n",
            "                                                                                                  \n",
            " batch_normalization_131 (Batch  (None, None, None,   384        ['conv2d_131[0][0]']             \n",
            " Normalization)                 128)                                                              \n",
            "                                                                                                  \n",
            " activation_126 (Activation)    (None, None, None,   0           ['batch_normalization_126[0][0]']\n",
            "                                128)                                                              \n",
            "                                                                                                  \n",
            " activation_131 (Activation)    (None, None, None,   0           ['batch_normalization_131[0][0]']\n",
            "                                128)                                                              \n",
            "                                                                                                  \n",
            " average_pooling2d_12 (AverageP  (None, None, None,   0          ['mixed3[0][0]']                 \n",
            " ooling2D)                      768)                                                              \n",
            "                                                                                                  \n",
            " conv2d_124 (Conv2D)            (None, None, None,   147456      ['mixed3[0][0]']                 \n",
            "                                192)                                                              \n",
            "                                                                                                  \n",
            " conv2d_127 (Conv2D)            (None, None, None,   172032      ['activation_126[0][0]']         \n",
            "                                192)                                                              \n",
            "                                                                                                  \n",
            " conv2d_132 (Conv2D)            (None, None, None,   172032      ['activation_131[0][0]']         \n",
            "                                192)                                                              \n",
            "                                                                                                  \n",
            " conv2d_133 (Conv2D)            (None, None, None,   147456      ['average_pooling2d_12[0][0]']   \n",
            "                                192)                                                              \n",
            "                                                                                                  \n",
            " batch_normalization_124 (Batch  (None, None, None,   576        ['conv2d_124[0][0]']             \n",
            " Normalization)                 192)                                                              \n",
            "                                                                                                  \n",
            " batch_normalization_127 (Batch  (None, None, None,   576        ['conv2d_127[0][0]']             \n",
            " Normalization)                 192)                                                              \n",
            "                                                                                                  \n",
            " batch_normalization_132 (Batch  (None, None, None,   576        ['conv2d_132[0][0]']             \n",
            " Normalization)                 192)                                                              \n",
            "                                                                                                  \n",
            " batch_normalization_133 (Batch  (None, None, None,   576        ['conv2d_133[0][0]']             \n",
            " Normalization)                 192)                                                              \n",
            "                                                                                                  \n",
            " activation_124 (Activation)    (None, None, None,   0           ['batch_normalization_124[0][0]']\n",
            "                                192)                                                              \n",
            "                                                                                                  \n",
            " activation_127 (Activation)    (None, None, None,   0           ['batch_normalization_127[0][0]']\n",
            "                                192)                                                              \n",
            "                                                                                                  \n",
            " activation_132 (Activation)    (None, None, None,   0           ['batch_normalization_132[0][0]']\n",
            "                                192)                                                              \n",
            "                                                                                                  \n",
            " activation_133 (Activation)    (None, None, None,   0           ['batch_normalization_133[0][0]']\n",
            "                                192)                                                              \n",
            "                                                                                                  \n",
            " mixed4 (Concatenate)           (None, None, None,   0           ['activation_124[0][0]',         \n",
            "                                768)                              'activation_127[0][0]',         \n",
            "                                                                  'activation_132[0][0]',         \n",
            "                                                                  'activation_133[0][0]']         \n",
            "                                                                                                  \n",
            " conv2d_138 (Conv2D)            (None, None, None,   122880      ['mixed4[0][0]']                 \n",
            "                                160)                                                              \n",
            "                                                                                                  \n",
            " batch_normalization_138 (Batch  (None, None, None,   480        ['conv2d_138[0][0]']             \n",
            " Normalization)                 160)                                                              \n",
            "                                                                                                  \n",
            " activation_138 (Activation)    (None, None, None,   0           ['batch_normalization_138[0][0]']\n",
            "                                160)                                                              \n",
            "                                                                                                  \n",
            " conv2d_139 (Conv2D)            (None, None, None,   179200      ['activation_138[0][0]']         \n",
            "                                160)                                                              \n",
            "                                                                                                  \n",
            " batch_normalization_139 (Batch  (None, None, None,   480        ['conv2d_139[0][0]']             \n",
            " Normalization)                 160)                                                              \n",
            "                                                                                                  \n",
            " activation_139 (Activation)    (None, None, None,   0           ['batch_normalization_139[0][0]']\n",
            "                                160)                                                              \n",
            "                                                                                                  \n",
            " conv2d_135 (Conv2D)            (None, None, None,   122880      ['mixed4[0][0]']                 \n",
            "                                160)                                                              \n",
            "                                                                                                  \n",
            " conv2d_140 (Conv2D)            (None, None, None,   179200      ['activation_139[0][0]']         \n",
            "                                160)                                                              \n",
            "                                                                                                  \n",
            " batch_normalization_135 (Batch  (None, None, None,   480        ['conv2d_135[0][0]']             \n",
            " Normalization)                 160)                                                              \n",
            "                                                                                                  \n",
            " batch_normalization_140 (Batch  (None, None, None,   480        ['conv2d_140[0][0]']             \n",
            " Normalization)                 160)                                                              \n",
            "                                                                                                  \n",
            " activation_135 (Activation)    (None, None, None,   0           ['batch_normalization_135[0][0]']\n",
            "                                160)                                                              \n",
            "                                                                                                  \n",
            " activation_140 (Activation)    (None, None, None,   0           ['batch_normalization_140[0][0]']\n",
            "                                160)                                                              \n",
            "                                                                                                  \n",
            " conv2d_136 (Conv2D)            (None, None, None,   179200      ['activation_135[0][0]']         \n",
            "                                160)                                                              \n",
            "                                                                                                  \n",
            " conv2d_141 (Conv2D)            (None, None, None,   179200      ['activation_140[0][0]']         \n",
            "                                160)                                                              \n",
            "                                                                                                  \n",
            " batch_normalization_136 (Batch  (None, None, None,   480        ['conv2d_136[0][0]']             \n",
            " Normalization)                 160)                                                              \n",
            "                                                                                                  \n",
            " batch_normalization_141 (Batch  (None, None, None,   480        ['conv2d_141[0][0]']             \n",
            " Normalization)                 160)                                                              \n",
            "                                                                                                  \n",
            " activation_136 (Activation)    (None, None, None,   0           ['batch_normalization_136[0][0]']\n",
            "                                160)                                                              \n",
            "                                                                                                  \n",
            " activation_141 (Activation)    (None, None, None,   0           ['batch_normalization_141[0][0]']\n",
            "                                160)                                                              \n",
            "                                                                                                  \n",
            " average_pooling2d_13 (AverageP  (None, None, None,   0          ['mixed4[0][0]']                 \n",
            " ooling2D)                      768)                                                              \n",
            "                                                                                                  \n",
            " conv2d_134 (Conv2D)            (None, None, None,   147456      ['mixed4[0][0]']                 \n",
            "                                192)                                                              \n",
            "                                                                                                  \n",
            " conv2d_137 (Conv2D)            (None, None, None,   215040      ['activation_136[0][0]']         \n",
            "                                192)                                                              \n",
            "                                                                                                  \n",
            " conv2d_142 (Conv2D)            (None, None, None,   215040      ['activation_141[0][0]']         \n",
            "                                192)                                                              \n",
            "                                                                                                  \n",
            " conv2d_143 (Conv2D)            (None, None, None,   147456      ['average_pooling2d_13[0][0]']   \n",
            "                                192)                                                              \n",
            "                                                                                                  \n",
            " batch_normalization_134 (Batch  (None, None, None,   576        ['conv2d_134[0][0]']             \n",
            " Normalization)                 192)                                                              \n",
            "                                                                                                  \n",
            " batch_normalization_137 (Batch  (None, None, None,   576        ['conv2d_137[0][0]']             \n",
            " Normalization)                 192)                                                              \n",
            "                                                                                                  \n",
            " batch_normalization_142 (Batch  (None, None, None,   576        ['conv2d_142[0][0]']             \n",
            " Normalization)                 192)                                                              \n",
            "                                                                                                  \n",
            " batch_normalization_143 (Batch  (None, None, None,   576        ['conv2d_143[0][0]']             \n",
            " Normalization)                 192)                                                              \n",
            "                                                                                                  \n",
            " activation_134 (Activation)    (None, None, None,   0           ['batch_normalization_134[0][0]']\n",
            "                                192)                                                              \n",
            "                                                                                                  \n",
            " activation_137 (Activation)    (None, None, None,   0           ['batch_normalization_137[0][0]']\n",
            "                                192)                                                              \n",
            "                                                                                                  \n",
            " activation_142 (Activation)    (None, None, None,   0           ['batch_normalization_142[0][0]']\n",
            "                                192)                                                              \n",
            "                                                                                                  \n",
            " activation_143 (Activation)    (None, None, None,   0           ['batch_normalization_143[0][0]']\n",
            "                                192)                                                              \n",
            "                                                                                                  \n",
            " mixed5 (Concatenate)           (None, None, None,   0           ['activation_134[0][0]',         \n",
            "                                768)                              'activation_137[0][0]',         \n",
            "                                                                  'activation_142[0][0]',         \n",
            "                                                                  'activation_143[0][0]']         \n",
            "                                                                                                  \n",
            " conv2d_148 (Conv2D)            (None, None, None,   122880      ['mixed5[0][0]']                 \n",
            "                                160)                                                              \n",
            "                                                                                                  \n",
            " batch_normalization_148 (Batch  (None, None, None,   480        ['conv2d_148[0][0]']             \n",
            " Normalization)                 160)                                                              \n",
            "                                                                                                  \n",
            " activation_148 (Activation)    (None, None, None,   0           ['batch_normalization_148[0][0]']\n",
            "                                160)                                                              \n",
            "                                                                                                  \n",
            " conv2d_149 (Conv2D)            (None, None, None,   179200      ['activation_148[0][0]']         \n",
            "                                160)                                                              \n",
            "                                                                                                  \n",
            " batch_normalization_149 (Batch  (None, None, None,   480        ['conv2d_149[0][0]']             \n",
            " Normalization)                 160)                                                              \n",
            "                                                                                                  \n",
            " activation_149 (Activation)    (None, None, None,   0           ['batch_normalization_149[0][0]']\n",
            "                                160)                                                              \n",
            "                                                                                                  \n",
            " conv2d_145 (Conv2D)            (None, None, None,   122880      ['mixed5[0][0]']                 \n",
            "                                160)                                                              \n",
            "                                                                                                  \n",
            " conv2d_150 (Conv2D)            (None, None, None,   179200      ['activation_149[0][0]']         \n",
            "                                160)                                                              \n",
            "                                                                                                  \n",
            " batch_normalization_145 (Batch  (None, None, None,   480        ['conv2d_145[0][0]']             \n",
            " Normalization)                 160)                                                              \n",
            "                                                                                                  \n",
            " batch_normalization_150 (Batch  (None, None, None,   480        ['conv2d_150[0][0]']             \n",
            " Normalization)                 160)                                                              \n",
            "                                                                                                  \n",
            " activation_145 (Activation)    (None, None, None,   0           ['batch_normalization_145[0][0]']\n",
            "                                160)                                                              \n",
            "                                                                                                  \n",
            " activation_150 (Activation)    (None, None, None,   0           ['batch_normalization_150[0][0]']\n",
            "                                160)                                                              \n",
            "                                                                                                  \n",
            " conv2d_146 (Conv2D)            (None, None, None,   179200      ['activation_145[0][0]']         \n",
            "                                160)                                                              \n",
            "                                                                                                  \n",
            " conv2d_151 (Conv2D)            (None, None, None,   179200      ['activation_150[0][0]']         \n",
            "                                160)                                                              \n",
            "                                                                                                  \n",
            " batch_normalization_146 (Batch  (None, None, None,   480        ['conv2d_146[0][0]']             \n",
            " Normalization)                 160)                                                              \n",
            "                                                                                                  \n",
            " batch_normalization_151 (Batch  (None, None, None,   480        ['conv2d_151[0][0]']             \n",
            " Normalization)                 160)                                                              \n",
            "                                                                                                  \n",
            " activation_146 (Activation)    (None, None, None,   0           ['batch_normalization_146[0][0]']\n",
            "                                160)                                                              \n",
            "                                                                                                  \n",
            " activation_151 (Activation)    (None, None, None,   0           ['batch_normalization_151[0][0]']\n",
            "                                160)                                                              \n",
            "                                                                                                  \n",
            " average_pooling2d_14 (AverageP  (None, None, None,   0          ['mixed5[0][0]']                 \n",
            " ooling2D)                      768)                                                              \n",
            "                                                                                                  \n",
            " conv2d_144 (Conv2D)            (None, None, None,   147456      ['mixed5[0][0]']                 \n",
            "                                192)                                                              \n",
            "                                                                                                  \n",
            " conv2d_147 (Conv2D)            (None, None, None,   215040      ['activation_146[0][0]']         \n",
            "                                192)                                                              \n",
            "                                                                                                  \n",
            " conv2d_152 (Conv2D)            (None, None, None,   215040      ['activation_151[0][0]']         \n",
            "                                192)                                                              \n",
            "                                                                                                  \n",
            " conv2d_153 (Conv2D)            (None, None, None,   147456      ['average_pooling2d_14[0][0]']   \n",
            "                                192)                                                              \n",
            "                                                                                                  \n",
            " batch_normalization_144 (Batch  (None, None, None,   576        ['conv2d_144[0][0]']             \n",
            " Normalization)                 192)                                                              \n",
            "                                                                                                  \n",
            " batch_normalization_147 (Batch  (None, None, None,   576        ['conv2d_147[0][0]']             \n",
            " Normalization)                 192)                                                              \n",
            "                                                                                                  \n",
            " batch_normalization_152 (Batch  (None, None, None,   576        ['conv2d_152[0][0]']             \n",
            " Normalization)                 192)                                                              \n",
            "                                                                                                  \n",
            " batch_normalization_153 (Batch  (None, None, None,   576        ['conv2d_153[0][0]']             \n",
            " Normalization)                 192)                                                              \n",
            "                                                                                                  \n",
            " activation_144 (Activation)    (None, None, None,   0           ['batch_normalization_144[0][0]']\n",
            "                                192)                                                              \n",
            "                                                                                                  \n",
            " activation_147 (Activation)    (None, None, None,   0           ['batch_normalization_147[0][0]']\n",
            "                                192)                                                              \n",
            "                                                                                                  \n",
            " activation_152 (Activation)    (None, None, None,   0           ['batch_normalization_152[0][0]']\n",
            "                                192)                                                              \n",
            "                                                                                                  \n",
            " activation_153 (Activation)    (None, None, None,   0           ['batch_normalization_153[0][0]']\n",
            "                                192)                                                              \n",
            "                                                                                                  \n",
            " mixed6 (Concatenate)           (None, None, None,   0           ['activation_144[0][0]',         \n",
            "                                768)                              'activation_147[0][0]',         \n",
            "                                                                  'activation_152[0][0]',         \n",
            "                                                                  'activation_153[0][0]']         \n",
            "                                                                                                  \n",
            " conv2d_158 (Conv2D)            (None, None, None,   147456      ['mixed6[0][0]']                 \n",
            "                                192)                                                              \n",
            "                                                                                                  \n",
            " batch_normalization_158 (Batch  (None, None, None,   576        ['conv2d_158[0][0]']             \n",
            " Normalization)                 192)                                                              \n",
            "                                                                                                  \n",
            " activation_158 (Activation)    (None, None, None,   0           ['batch_normalization_158[0][0]']\n",
            "                                192)                                                              \n",
            "                                                                                                  \n",
            " conv2d_159 (Conv2D)            (None, None, None,   258048      ['activation_158[0][0]']         \n",
            "                                192)                                                              \n",
            "                                                                                                  \n",
            " batch_normalization_159 (Batch  (None, None, None,   576        ['conv2d_159[0][0]']             \n",
            " Normalization)                 192)                                                              \n",
            "                                                                                                  \n",
            " activation_159 (Activation)    (None, None, None,   0           ['batch_normalization_159[0][0]']\n",
            "                                192)                                                              \n",
            "                                                                                                  \n",
            " conv2d_155 (Conv2D)            (None, None, None,   147456      ['mixed6[0][0]']                 \n",
            "                                192)                                                              \n",
            "                                                                                                  \n",
            " conv2d_160 (Conv2D)            (None, None, None,   258048      ['activation_159[0][0]']         \n",
            "                                192)                                                              \n",
            "                                                                                                  \n",
            " batch_normalization_155 (Batch  (None, None, None,   576        ['conv2d_155[0][0]']             \n",
            " Normalization)                 192)                                                              \n",
            "                                                                                                  \n",
            " batch_normalization_160 (Batch  (None, None, None,   576        ['conv2d_160[0][0]']             \n",
            " Normalization)                 192)                                                              \n",
            "                                                                                                  \n",
            " activation_155 (Activation)    (None, None, None,   0           ['batch_normalization_155[0][0]']\n",
            "                                192)                                                              \n",
            "                                                                                                  \n",
            " activation_160 (Activation)    (None, None, None,   0           ['batch_normalization_160[0][0]']\n",
            "                                192)                                                              \n",
            "                                                                                                  \n",
            " conv2d_156 (Conv2D)            (None, None, None,   258048      ['activation_155[0][0]']         \n",
            "                                192)                                                              \n",
            "                                                                                                  \n",
            " conv2d_161 (Conv2D)            (None, None, None,   258048      ['activation_160[0][0]']         \n",
            "                                192)                                                              \n",
            "                                                                                                  \n",
            " batch_normalization_156 (Batch  (None, None, None,   576        ['conv2d_156[0][0]']             \n",
            " Normalization)                 192)                                                              \n",
            "                                                                                                  \n",
            " batch_normalization_161 (Batch  (None, None, None,   576        ['conv2d_161[0][0]']             \n",
            " Normalization)                 192)                                                              \n",
            "                                                                                                  \n",
            " activation_156 (Activation)    (None, None, None,   0           ['batch_normalization_156[0][0]']\n",
            "                                192)                                                              \n",
            "                                                                                                  \n",
            " activation_161 (Activation)    (None, None, None,   0           ['batch_normalization_161[0][0]']\n",
            "                                192)                                                              \n",
            "                                                                                                  \n",
            " average_pooling2d_15 (AverageP  (None, None, None,   0          ['mixed6[0][0]']                 \n",
            " ooling2D)                      768)                                                              \n",
            "                                                                                                  \n",
            " conv2d_154 (Conv2D)            (None, None, None,   147456      ['mixed6[0][0]']                 \n",
            "                                192)                                                              \n",
            "                                                                                                  \n",
            " conv2d_157 (Conv2D)            (None, None, None,   258048      ['activation_156[0][0]']         \n",
            "                                192)                                                              \n",
            "                                                                                                  \n",
            " conv2d_162 (Conv2D)            (None, None, None,   258048      ['activation_161[0][0]']         \n",
            "                                192)                                                              \n",
            "                                                                                                  \n",
            " conv2d_163 (Conv2D)            (None, None, None,   147456      ['average_pooling2d_15[0][0]']   \n",
            "                                192)                                                              \n",
            "                                                                                                  \n",
            " batch_normalization_154 (Batch  (None, None, None,   576        ['conv2d_154[0][0]']             \n",
            " Normalization)                 192)                                                              \n",
            "                                                                                                  \n",
            " batch_normalization_157 (Batch  (None, None, None,   576        ['conv2d_157[0][0]']             \n",
            " Normalization)                 192)                                                              \n",
            "                                                                                                  \n",
            " batch_normalization_162 (Batch  (None, None, None,   576        ['conv2d_162[0][0]']             \n",
            " Normalization)                 192)                                                              \n",
            "                                                                                                  \n",
            " batch_normalization_163 (Batch  (None, None, None,   576        ['conv2d_163[0][0]']             \n",
            " Normalization)                 192)                                                              \n",
            "                                                                                                  \n",
            " activation_154 (Activation)    (None, None, None,   0           ['batch_normalization_154[0][0]']\n",
            "                                192)                                                              \n",
            "                                                                                                  \n",
            " activation_157 (Activation)    (None, None, None,   0           ['batch_normalization_157[0][0]']\n",
            "                                192)                                                              \n",
            "                                                                                                  \n",
            " activation_162 (Activation)    (None, None, None,   0           ['batch_normalization_162[0][0]']\n",
            "                                192)                                                              \n",
            "                                                                                                  \n",
            " activation_163 (Activation)    (None, None, None,   0           ['batch_normalization_163[0][0]']\n",
            "                                192)                                                              \n",
            "                                                                                                  \n",
            " mixed7 (Concatenate)           (None, None, None,   0           ['activation_154[0][0]',         \n",
            "                                768)                              'activation_157[0][0]',         \n",
            "                                                                  'activation_162[0][0]',         \n",
            "                                                                  'activation_163[0][0]']         \n",
            "                                                                                                  \n",
            " conv2d_166 (Conv2D)            (None, None, None,   147456      ['mixed7[0][0]']                 \n",
            "                                192)                                                              \n",
            "                                                                                                  \n",
            " batch_normalization_166 (Batch  (None, None, None,   576        ['conv2d_166[0][0]']             \n",
            " Normalization)                 192)                                                              \n",
            "                                                                                                  \n",
            " activation_166 (Activation)    (None, None, None,   0           ['batch_normalization_166[0][0]']\n",
            "                                192)                                                              \n",
            "                                                                                                  \n",
            " conv2d_167 (Conv2D)            (None, None, None,   258048      ['activation_166[0][0]']         \n",
            "                                192)                                                              \n",
            "                                                                                                  \n",
            " batch_normalization_167 (Batch  (None, None, None,   576        ['conv2d_167[0][0]']             \n",
            " Normalization)                 192)                                                              \n",
            "                                                                                                  \n",
            " activation_167 (Activation)    (None, None, None,   0           ['batch_normalization_167[0][0]']\n",
            "                                192)                                                              \n",
            "                                                                                                  \n",
            " conv2d_164 (Conv2D)            (None, None, None,   147456      ['mixed7[0][0]']                 \n",
            "                                192)                                                              \n",
            "                                                                                                  \n",
            " conv2d_168 (Conv2D)            (None, None, None,   258048      ['activation_167[0][0]']         \n",
            "                                192)                                                              \n",
            "                                                                                                  \n",
            " batch_normalization_164 (Batch  (None, None, None,   576        ['conv2d_164[0][0]']             \n",
            " Normalization)                 192)                                                              \n",
            "                                                                                                  \n",
            " batch_normalization_168 (Batch  (None, None, None,   576        ['conv2d_168[0][0]']             \n",
            " Normalization)                 192)                                                              \n",
            "                                                                                                  \n",
            " activation_164 (Activation)    (None, None, None,   0           ['batch_normalization_164[0][0]']\n",
            "                                192)                                                              \n",
            "                                                                                                  \n",
            " activation_168 (Activation)    (None, None, None,   0           ['batch_normalization_168[0][0]']\n",
            "                                192)                                                              \n",
            "                                                                                                  \n",
            " conv2d_165 (Conv2D)            (None, None, None,   552960      ['activation_164[0][0]']         \n",
            "                                320)                                                              \n",
            "                                                                                                  \n",
            " conv2d_169 (Conv2D)            (None, None, None,   331776      ['activation_168[0][0]']         \n",
            "                                192)                                                              \n",
            "                                                                                                  \n",
            " batch_normalization_165 (Batch  (None, None, None,   960        ['conv2d_165[0][0]']             \n",
            " Normalization)                 320)                                                              \n",
            "                                                                                                  \n",
            " batch_normalization_169 (Batch  (None, None, None,   576        ['conv2d_169[0][0]']             \n",
            " Normalization)                 192)                                                              \n",
            "                                                                                                  \n",
            " activation_165 (Activation)    (None, None, None,   0           ['batch_normalization_165[0][0]']\n",
            "                                320)                                                              \n",
            "                                                                                                  \n",
            " activation_169 (Activation)    (None, None, None,   0           ['batch_normalization_169[0][0]']\n",
            "                                192)                                                              \n",
            "                                                                                                  \n",
            " max_pooling2d_7 (MaxPooling2D)  (None, None, None,   0          ['mixed7[0][0]']                 \n",
            "                                768)                                                              \n",
            "                                                                                                  \n",
            " mixed8 (Concatenate)           (None, None, None,   0           ['activation_165[0][0]',         \n",
            "                                1280)                             'activation_169[0][0]',         \n",
            "                                                                  'max_pooling2d_7[0][0]']        \n",
            "                                                                                                  \n",
            " conv2d_174 (Conv2D)            (None, None, None,   573440      ['mixed8[0][0]']                 \n",
            "                                448)                                                              \n",
            "                                                                                                  \n",
            " batch_normalization_174 (Batch  (None, None, None,   1344       ['conv2d_174[0][0]']             \n",
            " Normalization)                 448)                                                              \n",
            "                                                                                                  \n",
            " activation_174 (Activation)    (None, None, None,   0           ['batch_normalization_174[0][0]']\n",
            "                                448)                                                              \n",
            "                                                                                                  \n",
            " conv2d_171 (Conv2D)            (None, None, None,   491520      ['mixed8[0][0]']                 \n",
            "                                384)                                                              \n",
            "                                                                                                  \n",
            " conv2d_175 (Conv2D)            (None, None, None,   1548288     ['activation_174[0][0]']         \n",
            "                                384)                                                              \n",
            "                                                                                                  \n",
            " batch_normalization_171 (Batch  (None, None, None,   1152       ['conv2d_171[0][0]']             \n",
            " Normalization)                 384)                                                              \n",
            "                                                                                                  \n",
            " batch_normalization_175 (Batch  (None, None, None,   1152       ['conv2d_175[0][0]']             \n",
            " Normalization)                 384)                                                              \n",
            "                                                                                                  \n",
            " activation_171 (Activation)    (None, None, None,   0           ['batch_normalization_171[0][0]']\n",
            "                                384)                                                              \n",
            "                                                                                                  \n",
            " activation_175 (Activation)    (None, None, None,   0           ['batch_normalization_175[0][0]']\n",
            "                                384)                                                              \n",
            "                                                                                                  \n",
            " conv2d_172 (Conv2D)            (None, None, None,   442368      ['activation_171[0][0]']         \n",
            "                                384)                                                              \n",
            "                                                                                                  \n",
            " conv2d_173 (Conv2D)            (None, None, None,   442368      ['activation_171[0][0]']         \n",
            "                                384)                                                              \n",
            "                                                                                                  \n",
            " conv2d_176 (Conv2D)            (None, None, None,   442368      ['activation_175[0][0]']         \n",
            "                                384)                                                              \n",
            "                                                                                                  \n",
            " conv2d_177 (Conv2D)            (None, None, None,   442368      ['activation_175[0][0]']         \n",
            "                                384)                                                              \n",
            "                                                                                                  \n",
            " average_pooling2d_16 (AverageP  (None, None, None,   0          ['mixed8[0][0]']                 \n",
            " ooling2D)                      1280)                                                             \n",
            "                                                                                                  \n",
            " conv2d_170 (Conv2D)            (None, None, None,   409600      ['mixed8[0][0]']                 \n",
            "                                320)                                                              \n",
            "                                                                                                  \n",
            " batch_normalization_172 (Batch  (None, None, None,   1152       ['conv2d_172[0][0]']             \n",
            " Normalization)                 384)                                                              \n",
            "                                                                                                  \n",
            " batch_normalization_173 (Batch  (None, None, None,   1152       ['conv2d_173[0][0]']             \n",
            " Normalization)                 384)                                                              \n",
            "                                                                                                  \n",
            " batch_normalization_176 (Batch  (None, None, None,   1152       ['conv2d_176[0][0]']             \n",
            " Normalization)                 384)                                                              \n",
            "                                                                                                  \n",
            " batch_normalization_177 (Batch  (None, None, None,   1152       ['conv2d_177[0][0]']             \n",
            " Normalization)                 384)                                                              \n",
            "                                                                                                  \n",
            " conv2d_178 (Conv2D)            (None, None, None,   245760      ['average_pooling2d_16[0][0]']   \n",
            "                                192)                                                              \n",
            "                                                                                                  \n",
            " batch_normalization_170 (Batch  (None, None, None,   960        ['conv2d_170[0][0]']             \n",
            " Normalization)                 320)                                                              \n",
            "                                                                                                  \n",
            " activation_172 (Activation)    (None, None, None,   0           ['batch_normalization_172[0][0]']\n",
            "                                384)                                                              \n",
            "                                                                                                  \n",
            " activation_173 (Activation)    (None, None, None,   0           ['batch_normalization_173[0][0]']\n",
            "                                384)                                                              \n",
            "                                                                                                  \n",
            " activation_176 (Activation)    (None, None, None,   0           ['batch_normalization_176[0][0]']\n",
            "                                384)                                                              \n",
            "                                                                                                  \n",
            " activation_177 (Activation)    (None, None, None,   0           ['batch_normalization_177[0][0]']\n",
            "                                384)                                                              \n",
            "                                                                                                  \n",
            " batch_normalization_178 (Batch  (None, None, None,   576        ['conv2d_178[0][0]']             \n",
            " Normalization)                 192)                                                              \n",
            "                                                                                                  \n",
            " activation_170 (Activation)    (None, None, None,   0           ['batch_normalization_170[0][0]']\n",
            "                                320)                                                              \n",
            "                                                                                                  \n",
            " mixed9_0 (Concatenate)         (None, None, None,   0           ['activation_172[0][0]',         \n",
            "                                768)                              'activation_173[0][0]']         \n",
            "                                                                                                  \n",
            " concatenate_2 (Concatenate)    (None, None, None,   0           ['activation_176[0][0]',         \n",
            "                                768)                              'activation_177[0][0]']         \n",
            "                                                                                                  \n",
            " activation_178 (Activation)    (None, None, None,   0           ['batch_normalization_178[0][0]']\n",
            "                                192)                                                              \n",
            "                                                                                                  \n",
            " mixed9 (Concatenate)           (None, None, None,   0           ['activation_170[0][0]',         \n",
            "                                2048)                             'mixed9_0[0][0]',               \n",
            "                                                                  'concatenate_2[0][0]',          \n",
            "                                                                  'activation_178[0][0]']         \n",
            "                                                                                                  \n",
            " conv2d_183 (Conv2D)            (None, None, None,   917504      ['mixed9[0][0]']                 \n",
            "                                448)                                                              \n",
            "                                                                                                  \n",
            " batch_normalization_183 (Batch  (None, None, None,   1344       ['conv2d_183[0][0]']             \n",
            " Normalization)                 448)                                                              \n",
            "                                                                                                  \n",
            " activation_183 (Activation)    (None, None, None,   0           ['batch_normalization_183[0][0]']\n",
            "                                448)                                                              \n",
            "                                                                                                  \n",
            " conv2d_180 (Conv2D)            (None, None, None,   786432      ['mixed9[0][0]']                 \n",
            "                                384)                                                              \n",
            "                                                                                                  \n",
            " conv2d_184 (Conv2D)            (None, None, None,   1548288     ['activation_183[0][0]']         \n",
            "                                384)                                                              \n",
            "                                                                                                  \n",
            " batch_normalization_180 (Batch  (None, None, None,   1152       ['conv2d_180[0][0]']             \n",
            " Normalization)                 384)                                                              \n",
            "                                                                                                  \n",
            " batch_normalization_184 (Batch  (None, None, None,   1152       ['conv2d_184[0][0]']             \n",
            " Normalization)                 384)                                                              \n",
            "                                                                                                  \n",
            " activation_180 (Activation)    (None, None, None,   0           ['batch_normalization_180[0][0]']\n",
            "                                384)                                                              \n",
            "                                                                                                  \n",
            " activation_184 (Activation)    (None, None, None,   0           ['batch_normalization_184[0][0]']\n",
            "                                384)                                                              \n",
            "                                                                                                  \n",
            " conv2d_181 (Conv2D)            (None, None, None,   442368      ['activation_180[0][0]']         \n",
            "                                384)                                                              \n",
            "                                                                                                  \n",
            " conv2d_182 (Conv2D)            (None, None, None,   442368      ['activation_180[0][0]']         \n",
            "                                384)                                                              \n",
            "                                                                                                  \n",
            " conv2d_185 (Conv2D)            (None, None, None,   442368      ['activation_184[0][0]']         \n",
            "                                384)                                                              \n",
            "                                                                                                  \n",
            " conv2d_186 (Conv2D)            (None, None, None,   442368      ['activation_184[0][0]']         \n",
            "                                384)                                                              \n",
            "                                                                                                  \n",
            " average_pooling2d_17 (AverageP  (None, None, None,   0          ['mixed9[0][0]']                 \n",
            " ooling2D)                      2048)                                                             \n",
            "                                                                                                  \n",
            " conv2d_179 (Conv2D)            (None, None, None,   655360      ['mixed9[0][0]']                 \n",
            "                                320)                                                              \n",
            "                                                                                                  \n",
            " batch_normalization_181 (Batch  (None, None, None,   1152       ['conv2d_181[0][0]']             \n",
            " Normalization)                 384)                                                              \n",
            "                                                                                                  \n",
            " batch_normalization_182 (Batch  (None, None, None,   1152       ['conv2d_182[0][0]']             \n",
            " Normalization)                 384)                                                              \n",
            "                                                                                                  \n",
            " batch_normalization_185 (Batch  (None, None, None,   1152       ['conv2d_185[0][0]']             \n",
            " Normalization)                 384)                                                              \n",
            "                                                                                                  \n",
            " batch_normalization_186 (Batch  (None, None, None,   1152       ['conv2d_186[0][0]']             \n",
            " Normalization)                 384)                                                              \n",
            "                                                                                                  \n",
            " conv2d_187 (Conv2D)            (None, None, None,   393216      ['average_pooling2d_17[0][0]']   \n",
            "                                192)                                                              \n",
            "                                                                                                  \n",
            " batch_normalization_179 (Batch  (None, None, None,   960        ['conv2d_179[0][0]']             \n",
            " Normalization)                 320)                                                              \n",
            "                                                                                                  \n",
            " activation_181 (Activation)    (None, None, None,   0           ['batch_normalization_181[0][0]']\n",
            "                                384)                                                              \n",
            "                                                                                                  \n",
            " activation_182 (Activation)    (None, None, None,   0           ['batch_normalization_182[0][0]']\n",
            "                                384)                                                              \n",
            "                                                                                                  \n",
            " activation_185 (Activation)    (None, None, None,   0           ['batch_normalization_185[0][0]']\n",
            "                                384)                                                              \n",
            "                                                                                                  \n",
            " activation_186 (Activation)    (None, None, None,   0           ['batch_normalization_186[0][0]']\n",
            "                                384)                                                              \n",
            "                                                                                                  \n",
            " batch_normalization_187 (Batch  (None, None, None,   576        ['conv2d_187[0][0]']             \n",
            " Normalization)                 192)                                                              \n",
            "                                                                                                  \n",
            " activation_179 (Activation)    (None, None, None,   0           ['batch_normalization_179[0][0]']\n",
            "                                320)                                                              \n",
            "                                                                                                  \n",
            " mixed9_1 (Concatenate)         (None, None, None,   0           ['activation_181[0][0]',         \n",
            "                                768)                              'activation_182[0][0]']         \n",
            "                                                                                                  \n",
            " concatenate_3 (Concatenate)    (None, None, None,   0           ['activation_185[0][0]',         \n",
            "                                768)                              'activation_186[0][0]']         \n",
            "                                                                                                  \n",
            " activation_187 (Activation)    (None, None, None,   0           ['batch_normalization_187[0][0]']\n",
            "                                192)                                                              \n",
            "                                                                                                  \n",
            " mixed10 (Concatenate)          (None, None, None,   0           ['activation_179[0][0]',         \n",
            "                                2048)                             'mixed9_1[0][0]',               \n",
            "                                                                  'concatenate_3[0][0]',          \n",
            "                                                                  'activation_187[0][0]']         \n",
            "                                                                                                  \n",
            " global_average_pooling2d_1 (Gl  (None, 2048)        0           ['mixed10[0][0]']                \n",
            " obalAveragePooling2D)                                                                            \n",
            "                                                                                                  \n",
            " dense_2 (Dense)                (None, 128)          262272      ['global_average_pooling2d_1[0][0\n",
            "                                                                 ]']                              \n",
            "                                                                                                  \n",
            " dense_3 (Dense)                (None, 3)            387         ['dense_2[0][0]']                \n",
            "                                                                                                  \n",
            "==================================================================================================\n",
            "Total params: 22,065,443\n",
            "Trainable params: 262,659\n",
            "Non-trainable params: 21,802,784\n",
            "__________________________________________________________________________________________________\n"
          ]
        }
      ],
      "source": [
        "#IMPLEMENTE\n",
        "qtde_epocas = 6\n",
        "qtde_classes = 3\n",
        "\n",
        "conv_base = InceptionV3(include_top=False)\n",
        "\n",
        "for layer in conv_base.layers:\n",
        "    layer.trainable = False\n",
        "\n",
        "x = conv_base.output\n",
        "x = layers.GlobalAveragePooling2D()(x)\n",
        "x = layers.Dense(128, activation='relu')(x) \n",
        "\n",
        "predictions = layers.Dense(qtde_classes, activation='softmax')(x)\n",
        "model = Model(conv_base.input, predictions)\n",
        "\n",
        "model.summary()"
      ]
    },
    {
      "cell_type": "code",
      "source": [
        "optimizer = optimizers.Adam()\n",
        "model.compile(loss='categorical_crossentropy', optimizer=optimizer, metrics=[precision_score, recall_score, f1_score])\n"
      ],
      "metadata": {
        "id": "nzqhEtzqcg72"
      },
      "execution_count": 18,
      "outputs": []
    },
    {
      "cell_type": "code",
      "source": [
        "history = model.fit(train_generator, epochs=qtde_epocas, validation_steps=5, steps_per_epoch=5, \n",
        "                    validation_data=val_generator)"
      ],
      "metadata": {
        "colab": {
          "base_uri": "https://localhost:8080/"
        },
        "id": "tZkAL3V8cnYS",
        "outputId": "422fd721-18bd-4bf0-dfa5-086ceea4b77f"
      },
      "execution_count": 19,
      "outputs": [
        {
          "output_type": "stream",
          "name": "stdout",
          "text": [
            "Epoch 1/6\n",
            "5/5 [==============================] - 43s 9s/step - loss: 30.2149 - precision_score: 0.4187 - recall_score: 0.4187 - f1_score: 0.4187 - val_loss: 14.3983 - val_precision_score: 0.3562 - val_recall_score: 0.3562 - val_f1_score: 0.3562\n",
            "Epoch 2/6\n",
            "5/5 [==============================] - 34s 7s/step - loss: 24.0672 - precision_score: 0.4187 - recall_score: 0.4187 - f1_score: 0.4187 - val_loss: 12.8942 - val_precision_score: 0.5500 - val_recall_score: 0.5500 - val_f1_score: 0.5500\n",
            "Epoch 3/6\n",
            "5/5 [==============================] - 34s 7s/step - loss: 18.2636 - precision_score: 0.6375 - recall_score: 0.6375 - f1_score: 0.6375 - val_loss: 16.7127 - val_precision_score: 0.5625 - val_recall_score: 0.5625 - val_f1_score: 0.5625\n",
            "Epoch 4/6\n",
            "5/5 [==============================] - 37s 8s/step - loss: 12.3594 - precision_score: 0.5500 - recall_score: 0.5500 - f1_score: 0.5500 - val_loss: 8.5806 - val_precision_score: 0.6187 - val_recall_score: 0.6187 - val_f1_score: 0.6187\n",
            "Epoch 5/6\n",
            "5/5 [==============================] - 36s 8s/step - loss: 7.5689 - precision_score: 0.6438 - recall_score: 0.6438 - f1_score: 0.6437 - val_loss: 9.3724 - val_precision_score: 0.6625 - val_recall_score: 0.6625 - val_f1_score: 0.6625\n",
            "Epoch 6/6\n",
            "5/5 [==============================] - 36s 8s/step - loss: 6.0101 - precision_score: 0.6758 - recall_score: 0.6687 - f1_score: 0.6722 - val_loss: 6.7010 - val_precision_score: 0.7063 - val_recall_score: 0.7063 - val_f1_score: 0.7062\n"
          ]
        }
      ]
    },
    {
      "cell_type": "code",
      "source": [
        "# Exibindo dados de Precisão\n",
        "plt.plot(history.history['precision_score'])\n",
        "plt.plot(history.history['val_precision_score'])\n",
        "plt.title('model precision')\n",
        "plt.ylabel('precision')\n",
        "plt.xlabel('epoch')\n",
        "plt.legend(['train', 'test'], loc='upper left')\n",
        "plt.show()\n",
        "\n",
        "# Exibindo dados de Sensibilidade\n",
        "plt.plot(history.history['recall_score'])\n",
        "plt.plot(history.history['val_recall_score'])\n",
        "plt.title('model recall')\n",
        "plt.ylabel('recall')\n",
        "plt.xlabel('epoch')\n",
        "plt.legend(['train', 'test'], loc='upper left')\n",
        "plt.show()\n",
        "\n",
        "# Exibindo dados de F1 Score\n",
        "plt.plot(history.history['f1_score'])\n",
        "plt.plot(history.history['val_f1_score'])\n",
        "plt.title('model f1_score')\n",
        "plt.ylabel('f1_score')\n",
        "plt.xlabel('epoch')\n",
        "plt.legend(['train', 'test'], loc='upper left')\n",
        "plt.show()\n",
        "\n",
        "# Exibindo dados de Perda\n",
        "plt.plot(history.history['loss'])\n",
        "plt.plot(history.history['val_loss'])\n",
        "plt.title('model loss')\n",
        "plt.ylabel('loss')\n",
        "plt.xlabel('epoch')\n",
        "plt.legend(['train', 'test'], loc='upper left')\n",
        "plt.show()"
      ],
      "metadata": {
        "colab": {
          "base_uri": "https://localhost:8080/",
          "height": 1000
        },
        "id": "-nFfdeDpcGkH",
        "outputId": "74ac2df1-5b27-4552-bb41-9f178546840e"
      },
      "execution_count": 20,
      "outputs": [
        {
          "output_type": "display_data",
          "data": {
            "text/plain": [
              "<Figure size 432x288 with 1 Axes>"
            ],
            "image/png": "[encoded data removed]"
          },
          "metadata": {
            "needs_background": "light"
          }
        },
        {
          "output_type": "display_data",
          "data": {
            "text/plain": [
              "<Figure size 432x288 with 1 Axes>"
            ],
            "image/png": "[encoded data removed]"
          },
          "metadata": {
            "needs_background": "light"
          }
        },
        {
          "output_type": "display_data",
          "data": {
            "text/plain": [
              "<Figure size 432x288 with 1 Axes>"
            ],
            "image/png": "[encoded data removed]"
          },
          "metadata": {
            "needs_background": "light"
          }
        },
        {
          "output_type": "display_data",
          "data": {
            "text/plain": [
              "<Figure size 432x288 with 1 Axes>"
            ],
            "image/png": "[encoded data removed]"
          },
          "metadata": {
            "needs_background": "light"
          }
        }
      ]
    },
    {
      "cell_type": "markdown",
      "source": [
        "val_loss: 6.7010 - val_precision_score: 0.7063 - val_recall_score: 0.7063 - val_f1_score: 0.7062\n",
        "\n",
        "**Métricas VGG19 (Validação)** <br><br>\n",
        "\n",
        "**Precisão**: 70.63% <br>\n",
        "**Recall** 70.63% <br>\n",
        "**F1**: 70.62% <br>\n",
        "**Qtde de Épocas:** 6"
      ],
      "metadata": {
        "id": "iI6Kqx687gDj"
      }
    },
    {
      "cell_type": "markdown",
      "metadata": {
        "id": "B4MrUpKwdPeV"
      },
      "source": [
        "### 4.8.1 Conclusões sobre a abordagem adicional\n",
        "\n",
        "Como seu modelo performou em comparação com os demais modelos anteriores? Justifique sua resposta levando em consideração a arquitetura respectiva."
      ]
    },
    {
      "cell_type": "markdown",
      "metadata": {
        "id": "c6zg4mwcdPeV"
      },
      "source": [
        "**Resposta**:\n",
        "\n",
        "O modelo InceptionV3 demonstrou um bom desempenho, porém inferior aos modelos testados anteriormente.\n",
        "\n",
        "O modelo precisou de 6 épocas para convergir, e o pior modelo dos testes anteriores (VGG19), obteve indicadores melhores mesmo com apenas 4 épocas.\n",
        "\n",
        "Logo o InceptionV3 não seria uma boa escolha para este contexto."
      ]
    },
    {
      "cell_type": "code",
      "execution_count": null,
      "metadata": {
        "id": "y-7MyhUydPeV"
      },
      "outputs": [],
      "source": [
        ""
      ]
    }
  ],
  "metadata": {
    "kernelspec": {
      "display_name": "Python 3",
      "language": "python",
      "name": "python3"
    },
    "language_info": {
      "codemirror_mode": {
        "name": "ipython",
        "version": 3
      },
      "file_extension": ".py",
      "mimetype": "text/x-python",
      "name": "python",
      "nbconvert_exporter": "python",
      "pygments_lexer": "ipython3",
      "version": "3.6.10"
    },
    "colab": {
      "name": "analise-imagens-medicas-colab.ipynb",
      "provenance": [],
      "collapsed_sections": []
    },
    "accelerator": "GPU"
  },
  "nbformat": 4,
  "nbformat_minor": 0
}